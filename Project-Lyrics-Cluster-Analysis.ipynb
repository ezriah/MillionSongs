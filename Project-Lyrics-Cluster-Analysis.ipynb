{
 "cells": [
  {
   "cell_type": "markdown",
   "metadata": {},
   "source": [
    "# Clustering Lyrics Using Kmeans"
   ]
  },
  {
   "cell_type": "markdown",
   "metadata": {},
   "source": [
    "This module uses the lyrics_dict.json file, which contains each track with its corresponding lyrics in bag-of-words format. It trasnforms the corpus into a tf-idf sparse matrix, which will be discussed later on in the module. Finally, it clusters the lyrics. Several clustering algorithms will be explored, and the final algorithm/cluster number combination will be selected based on silhouette score, which will also be discussed."
   ]
  },
  {
   "cell_type": "code",
   "execution_count": 38,
   "metadata": {
    "collapsed": true
   },
   "outputs": [],
   "source": [
    "import json\n",
    "import nltk\n",
    "import pandas as pd\n",
    "from sklearn.feature_extraction.text import TfidfVectorizer\n",
    "from nltk.corpus import stopwords\n",
    "from sklearn.cluster import KMeans\n",
    "from sklearn.metrics import silhouette_score\n",
    "from sklearn.metrics import silhouette_samples\n",
    "import matplotlib.pyplot as plt\n",
    "import re"
   ]
  },
  {
   "cell_type": "markdown",
   "metadata": {},
   "source": [
    "We first open our json file, which stores tracks as keys and a list of lyrics as values in a dictionary. "
   ]
  },
  {
   "cell_type": "code",
   "execution_count": 39,
   "metadata": {
    "collapsed": false
   },
   "outputs": [],
   "source": [
    "with open('lyrics_dict_subset.json', 'r') as fp:\n",
    "    data_json = json.load(fp)"
   ]
  },
  {
   "cell_type": "markdown",
   "metadata": {},
   "source": [
    "We access a random track to see the structure of the dictionary."
   ]
  },
  {
   "cell_type": "code",
   "execution_count": 40,
   "metadata": {
    "collapsed": false
   },
   "outputs": [
    {
     "data": {
      "text/plain": [
       "('TRANNCZ128F92F1D22',\n",
       " '[i i i i i i i i i i i i i i i  the the the the the the the the the the the the the  you  to to to to  and and and and and and and and and and  a a a a a a  it it it  in in in  my my my my my my my  is  of of of of of of of of of of of  your  that that that  do  are are  am am am am am  will  all  for for for  no  have have have have  so so  but  with with with with  what  when  like  can can can  come come  there there there there  up  oh oh  they  out out out out  if if  never  from  he he  take  would would would would  at  here  could  night  thing  right  who who  man  give give  onli onli  tri  well  an an  his  long  littl  hand  noth  light  call  home  ever ever  head  their  someth someth  insid  place place  these these  off off  old  even  without  same same  far far  tear  dead  doe  year year year year  sound  deep  understand  best  seen  after after  grow grow  scream scream  men  feet  veri  empti empti empti  king king  tire tire  sinc  yet  somewher  wave  bone bone  guy  scare  known known  wide  deni  prais  few  demon  surpris  master  anim  jack  crown  grown grown  charm  unknown  fame  began  weari  nor  mister  pant  grin  moan  understood  furi  throughout  franc  swept  england  fright  routin  skeleton  effort ]')"
      ]
     },
     "execution_count": 40,
     "metadata": {},
     "output_type": "execute_result"
    }
   ],
   "source": [
    "random.choice(list(data_json.items()))"
   ]
  },
  {
   "cell_type": "code",
   "execution_count": 41,
   "metadata": {
    "collapsed": false
   },
   "outputs": [],
   "source": [
    "# make this into two lists: tracks and lyrics\n",
    "\n",
    "tracks = list(data_json.keys())\n",
    "lyrics = list(data_json.values())"
   ]
  },
  {
   "cell_type": "markdown",
   "metadata": {},
   "source": [
    "## Term Frequency-Inverse Document Frequency"
   ]
  },
  {
   "cell_type": "markdown",
   "metadata": {},
   "source": [
    "We want to turn our list of lyrics into a term frequency-inverse document frequency (tf-idf) sparse matrix. This is done with the following calculations.\n",
    "\n",
    "* _term frequency_ is the number of times that word appears in the document, and it can be (but is not always) divided by the document length to normalize it.\n",
    "\n",
    "* _inverse document frequency_ is a measure of how important a word is. It is computed using the log of the total number of documents divided by the numer of documents with the term in it.\n",
    "\n",
    "* _tf-idf_ is the product of these two terms\n",
    "\n",
    "(Put the mathematical formula here)\n",
    "\n",
    "This process uses one row for each document. Columns consist of the vocabulary of the corpus. Row entries include the tf-idf weight for each word that occurs in the document. If a word does not occur, a zero is entered.\n",
    "\n",
    "http://www.tfidf.com/\n",
    "\n",
    "https://en.wikipedia.org/wiki/Tf%E2%80%93idf"
   ]
  },
  {
   "cell_type": "markdown",
   "metadata": {},
   "source": [
    "Fortunately, there is a scikit-learn algorithm, TfidfVectorizer, that does these calculations for us. But first we need to create a list of stopwords, which will be passed as a parameter to the algorithm.\n",
    "\n",
    "The NLTK library comes with a [number of corpora](http://www.nltk.org/howto/corpus.html#other-corpora), one of which includes stopwords in multiple languages. Since our dataset contains songs in more than one language, we combine these stopwords, along with a list of our own stopwords, to use in the TfidfVectorizer."
   ]
  },
  {
   "cell_type": "code",
   "execution_count": 42,
   "metadata": {
    "collapsed": true
   },
   "outputs": [],
   "source": [
    "english = stopwords.words('english')\n",
    "french = stopwords.words('french')\n",
    "spanish = stopwords.words('spanish')\n",
    "portuguese = stopwords.words('portuguese')\n",
    "mine = ['yeah', 'get', 'got', 'would', 'nan', 'ca']\n",
    "stop = english + french + spanish + portuguese + mine\n",
    "#stop"
   ]
  },
  {
   "cell_type": "markdown",
   "metadata": {},
   "source": [
    "In addition to stopwords, there are a couple of other parameters we're interested in for the TfidvVectorizer:\n",
    "\n",
    "* **max\\_df**: When building the vocabulary ignore terms that have a document frequency  higher than the given threshold (corpus-specific stop words). \n",
    "\n",
    "* **min\\_df**: When building the vocabulary ignore terms that have a document frequency strictly lower than the given threshold. This value is also called cut-off in the literature. \n",
    "\n",
    "* **use\\_idf**: Enable inverse-document-frequency reweighting\n",
    "\n",
    "Source: http://scikit-learn.org/stable/modules/generated/sklearn.feature_extraction.text.TfidfVectorizer.html"
   ]
  },
  {
   "cell_type": "code",
   "execution_count": 43,
   "metadata": {
    "collapsed": false
   },
   "outputs": [],
   "source": [
    "tfidf_vectorizer = TfidfVectorizer(max_df=0.4,\n",
    "                                   min_df=0.3,\n",
    "                                   stop_words=stop,\n",
    "                                   use_idf=True)"
   ]
  },
  {
   "cell_type": "markdown",
   "metadata": {},
   "source": [
    "Now we need to use our tfidf_vectorizer to fit the lyrics. We use the fit_transform method, which learns the vocabulary and idf weight, and returns a term-document matrix. Looking at the shape, we find that there are 2383 documents with a vocabulary of 4497 terms."
   ]
  },
  {
   "cell_type": "code",
   "execution_count": 44,
   "metadata": {
    "collapsed": false
   },
   "outputs": [
    {
     "name": "stdout",
     "output_type": "stream",
     "text": [
      "(2383, 6)\n"
     ]
    }
   ],
   "source": [
    "tfidf_matrix = tfidf_vectorizer.fit_transform(lyrics)\n",
    "\n",
    "print(tfidf_matrix.shape)"
   ]
  },
  {
   "cell_type": "code",
   "execution_count": 45,
   "metadata": {
    "collapsed": false
   },
   "outputs": [
    {
     "data": {
      "text/plain": [
       "<2383x6 sparse matrix of type '<class 'numpy.float64'>'\n",
       "\twith 4659 stored elements in Compressed Sparse Row format>"
      ]
     },
     "execution_count": 45,
     "metadata": {},
     "output_type": "execute_result"
    }
   ],
   "source": [
    "tfidf_matrix"
   ]
  },
  {
   "cell_type": "markdown",
   "metadata": {},
   "source": [
    "## Kmeans Clustering"
   ]
  },
  {
   "cell_type": "markdown",
   "metadata": {},
   "source": [
    "Now that we have our TF-IDF, we can move forward with clustering. We'll first cluster the documents using Kmeans. We'll use the following process to determine the optimal number of clusters:\n",
    "\n",
    "1. Calculate the silhouette coefficient\n",
    "    \n",
    "From http://scikit-learn.org/stable/modules/generated/sklearn.metrics.silhouette_score.html:\n",
    "    \n",
    "    The Silhouette Coefficient is calculated using the mean intra-cluster distance (a) and the mean nearest-cluster distance (b) for each sample. The Silhouette Coefficient for a sample is (b - a) / max(a, b). To clarify, b is the distance between a sample and the nearest cluster that the sample is not a part of.\"\n",
    "    \n",
    "    The silhouette score is the mean silhouette score over all samples. The score ranges from -1 to 1. We want a score that's close to 1.\n",
    "    \n",
    "From http://scikit-learn.org/stable/auto_examples/cluster/plot_kmeans_silhouette_analysis.html:\n",
    "    \n",
    "    Silhoette coefficients (as these values are referred to as) near +1 indicate that the sample is far away from the neighboring clusters. A value of 0 indicates that the sample is on or very close to the decision boundary between two neighboring clusters and negative values indicate that those samples might have been assigned to the wrong cluster.\n",
    "    \n",
    "2.  After look at the sillhouette average across a range of clusters, we'll select numbers of clusters that look promising and look at the silhouette plots. This will give us a better understanding of how well our data is clustered. We'll also look at the top words in each of the clusters.\n",
    "\n",
    "\n",
    "http://scikit-learn.org/stable/auto_examples/cluster/plot_kmeans_silhouette_analysis.html"
   ]
  },
  {
   "cell_type": "markdown",
   "metadata": {},
   "source": [
    "### Kmeans Methods\n",
    "\n",
    "Since we're going to be using the kmeans algorithm, let's take a minute to understand what each of the functions does. We'll use a subset of 10 songs, with k=3.\n",
    "\n",
    "The scikit Kmeans class implements the following methods:\n",
    "\n",
    "* **fit(X[, y])** -\tCompute k-means clustering.\n",
    "* **fit_predict(X[, y])** -\tCompute cluster centers and predict cluster index for each sample.\n",
    "* **fit_transform(X[, y])** - Compute clustering and transform X to cluster-distance space.\n",
    "* **get_params([deep])** - Get parameters for this estimator.\n",
    "* **predict(X)** -Predict the closest cluster each sample in X belongs to.\n",
    "* **score(X[, y])**\t- Opposite of the value of X on the K-means objective.\n",
    "* **set_params(**params)** - Set the parameters of this estimator.\n",
    "* **transform(X[, y])** - Transform X to a cluster-distance space.\n",
    "\n",
    "We'll explore m of the methods to understand their return values a little better.\n",
    "\n",
    "Source: http://scikit-learn.org/stable/modules/generated/sklearn.cluster.KMeans.html#sklearn.cluster.KMeans.fit"
   ]
  },
  {
   "cell_type": "code",
   "execution_count": 46,
   "metadata": {
    "collapsed": false
   },
   "outputs": [
    {
     "data": {
      "text/plain": [
       "(KMeans(copy_x=True, init='k-means++', max_iter=300, n_clusters=3, n_init=10,\n",
       "     n_jobs=1, precompute_distances='auto', random_state=3, tol=0.0001,\n",
       "     verbose=0),\n",
       " KMeans(copy_x=True, init='k-means++', max_iter=300, n_clusters=3, n_init=10,\n",
       "     n_jobs=1, precompute_distances='auto', random_state=3, tol=0.0001,\n",
       "     verbose=0))"
      ]
     },
     "execution_count": 46,
     "metadata": {},
     "output_type": "execute_result"
    }
   ],
   "source": [
    "lyric = lyrics[0:10]\n",
    "\n",
    "# create tf-idf\n",
    "tfidf_vectorizer = TfidfVectorizer(max_df=0.4,\n",
    "                                   min_df=0.3,\n",
    "                                   stop_words=stop,\n",
    "                                   use_idf=True)\n",
    "tfidf_matrix = tfidf_vectorizer.fit_transform(lyric)\n",
    "\n",
    "km = KMeans(n_clusters=3, init='k-means++', random_state=3)\n",
    "\n",
    "# does this actually do anything?\n",
    "km_fit = km.fit(tfidf_matrix)\n",
    "km_fit, km.fit(tfidf_matrix)"
   ]
  },
  {
   "cell_type": "code",
   "execution_count": 47,
   "metadata": {
    "collapsed": false
   },
   "outputs": [
    {
     "data": {
      "text/plain": [
       "(array([2, 1, 1, 1, 0, 2, 1, 1, 0, 1]), array([2, 1, 1, 1, 0, 2, 1, 1, 0, 1]))"
      ]
     },
     "execution_count": 47,
     "metadata": {},
     "output_type": "execute_result"
    }
   ],
   "source": [
    "# these returns cluster labels\n",
    "km_fit_predict = km.fit_predict(tfidf_matrix)\n",
    "km_predict = km.predict(tfidf_matrix)\n",
    "km_fit_predict, km_predict"
   ]
  },
  {
   "cell_type": "code",
   "execution_count": 48,
   "metadata": {
    "collapsed": false
   },
   "outputs": [
    {
     "data": {
      "text/plain": [
       "(array([[ 1.30440569,  1.00749944,  0.43643492],\n",
       "        [ 0.88313452,  0.35461444,  0.89973583],\n",
       "        [ 0.88313452,  0.35461444,  0.89973583],\n",
       "        [ 0.88313452,  0.35461444,  0.89973583],\n",
       "        [ 0.46911983,  0.93614754,  1.2294839 ],\n",
       "        [ 1.22759535,  0.85056623,  0.43643492],\n",
       "        [ 1.31401415,  0.80210213,  1.24613685],\n",
       "        [ 1.14286368,  0.7768557 ,  1.10562645],\n",
       "        [ 0.46911983,  0.98467982,  1.32515276],\n",
       "        [ 1.04422242,  0.78826696,  1.05562896]]),\n",
       " array([[ 1.30440569,  1.00749944,  0.43643492],\n",
       "        [ 0.88313452,  0.35461444,  0.89973583],\n",
       "        [ 0.88313452,  0.35461444,  0.89973583],\n",
       "        [ 0.88313452,  0.35461444,  0.89973583],\n",
       "        [ 0.46911983,  0.93614754,  1.2294839 ],\n",
       "        [ 1.22759535,  0.85056623,  0.43643492],\n",
       "        [ 1.31401415,  0.80210213,  1.24613685],\n",
       "        [ 1.14286368,  0.7768557 ,  1.10562645],\n",
       "        [ 0.46911983,  0.98467982,  1.32515276],\n",
       "        [ 1.04422242,  0.78826696,  1.05562896]]))"
      ]
     },
     "execution_count": 48,
     "metadata": {},
     "output_type": "execute_result"
    }
   ],
   "source": [
    "# these transform x to cluster-distance space using euclidian distance and return a numpy ndarray\n",
    "km_fit_transform = km.fit_transform(tfidf_matrix)\n",
    "km_transform = km.transform(tfidf_matrix)\n",
    "km_fit_transform, km_transform"
   ]
  },
  {
   "cell_type": "markdown",
   "metadata": {},
   "source": [
    "## Evaluating Clusters: Silhouette Scores\n",
    "\n",
    "How do we decide how well our documents are clustered? One method is to use the silhouette coefficient. From [wikipedia](https://en.wikipedia.org/wiki/Silhouette_(clustering)):\n",
    "    \n",
    "    The silhouette value is a measure of how similar an object is to its own cluster (cohesion) compared to other clusters (separation). The silhouette ranges from -1 to 1, where a high value a indicates that the object is well matched to its own cluster and badly matched to neighboring clusters. If most objects have a high value, then the clustering configuration is appropriate. If many points have a low or negative value, then the clustering configuration may have too many or too few clusters.\n",
    "    \n",
    "Scikit-Learn has two functions that calculate the silhouette coefficient. \n",
    "\n",
    "* The function [silhouette_score](http://scikit-learn.org/stable/modules/generated/sklearn.metrics.silhouette_score.html) returns the mean silhouette coefficient for all samples. \n",
    "\n",
    "* The funciton [silhouette_samples](http://scikit-learn.org/stable/modules/generated/sklearn.metrics.silhouette_samples.html) returns the silhouette coefficient for each sample. \n",
    "\n",
    "We'll use the silhouette_score function to compare different numbers of clusters, using euclidean distance for the metric parameter."
   ]
  },
  {
   "cell_type": "markdown",
   "metadata": {
    "collapsed": true
   },
   "source": [
    "Next, we define the functions we'll use to compare clusters, create clusters, create the total vocabulary, and to print the clusters. The create_vocab and print_clusters have been adapted from http://brandonrose.org/clustering. The compare_clusters function was adapted from the text Python Data Science Cookbook, chapter 5."
   ]
  },
  {
   "cell_type": "code",
   "execution_count": 49,
   "metadata": {
    "collapsed": true
   },
   "outputs": [],
   "source": [
    "# function definitions---------------------------------\n",
    "def compare_clusters(lyrics, k_range, max_df, min_df, stop):    \n",
    "    # create vectorizer\n",
    "    tfidf_vectorizer = TfidfVectorizer(max_df=max_df,\n",
    "                                       min_df=min_df,\n",
    "                                       stop_words=stop,\n",
    "                                       use_idf=True)   \n",
    "    # fit it to lyrics\n",
    "    tfidf_matrix = tfidf_vectorizer.fit_transform(lyrics)   \n",
    "    \n",
    "    sil_score = []\n",
    "    for num_clust in k_range:\n",
    "        km = KMeans(n_clusters=num_clust, init='k-means++', random_state=10)\n",
    "        cluster_labels = km.fit_predict(tfidf_matrix)\n",
    "        silhouette_avg = silhouette_score(tfidf_matrix, cluster_labels, metric='euclidean')\n",
    "        sil_score.append(silhouette_avg)\n",
    "\n",
    "    #return sil_score\n",
    "    plt.figure(2)\n",
    "    plt.plot(k_range, sil_score)\n",
    "    plt.grid(b=True, which='both')\n",
    "    plt.locator_params(nbins=max(k_range)/2)\n",
    "    plt.title(\"Cluster Quality\")\n",
    "    plt.xlabel(\"Number of Clusters\")\n",
    "    plt.ylabel(\"Silhouette Coefficient\")\n",
    "    plt.show()\n",
    "    \n",
    "\n",
    "def create_clusters(lyrics, tracks, k, maxdf, mindf):\n",
    "       \n",
    "    # create vectorizer\n",
    "    tfidf_vectorizer = TfidfVectorizer(max_df=maxdf,\n",
    "                                       min_df=mindf,\n",
    "                                       stop_words=stop,\n",
    "                                       use_idf=True)\n",
    "    \n",
    "    # fit it to lyrics\n",
    "    tfidf_matrix = tfidf_vectorizer.fit_transform(lyrics)   \n",
    "    terms = tfidf_vectorizer.get_feature_names()\n",
    "    \n",
    "    # run Kmeans on the tf-idf\n",
    "    km = KMeans(n_clusters=k, init='k-means++', random_state=10)\n",
    "    cluster_labels = km.fit_predict(tfidf_matrix)\n",
    "    \n",
    "    # make pandas dataframe\n",
    "    cluster_df = pd.DataFrame(lyrics, columns = ['lyrics'])\n",
    "    cluster_df['clusters'] = cluster_labels\n",
    "    cluster_df['sil_scores'] = silhouette_samples(tfidf_matrix, cluster_labels, metric='euclidean')\n",
    "    cluster_df['tracks'] = tracks\n",
    "       \n",
    "    return (cluster_df, terms, km)\n",
    "    \n",
    "# creates total vocabulary to use in print function\n",
    "def create_vocab(text):\n",
    "    def tokenize(text):\n",
    "        tokens = [word.lower() for word in nltk.word_tokenize(text)]\n",
    "        filtered_tokens = []\n",
    "        # filter out any tokens not containing letters (e.g., numeric tokens, raw punctuation)\n",
    "        for token in tokens:\n",
    "            if re.search('[a-zA-Z]', token):\n",
    "                filtered_tokens.append(token)\n",
    "        return filtered_tokens\n",
    "    \n",
    "    total_vocab = []\n",
    "    \n",
    "    for i in lyrics:\n",
    "        allword= tokenize(i) #for each item in 'lyrics'\n",
    "        total_vocab.extend(allword) #extend the 'totalvocab_stemmed' list\n",
    "        \n",
    "    return total_vocab\n",
    "\n",
    "\n",
    "# print clusters ---------------------------------------\n",
    "def print_clusters(lyrics, terms, km):\n",
    "\n",
    "    total_vocab = create_vocab(lyrics)\n",
    "    vocab_frame = pd.DataFrame({'words': total_vocab}, index = total_vocab)    \n",
    "        \n",
    "    print(\"Top terms per cluster:\")\n",
    "    print()\n",
    "    #sort cluster centers by proximity to centroid\n",
    "    order_centroids = km.cluster_centers_.argsort()[:, ::-1] \n",
    "    \n",
    "    for i in range(num_clusters):\n",
    "        print(\"Cluster %d words:\" % i, end='')\n",
    "        \n",
    "        for ind in order_centroids[i, :12]: #replace 6 with n words per cluster\n",
    "            print(' %s' % vocab_frame.ix[terms[ind].split(' ')].values.tolist()[0][0], end=',')\n",
    "        print() #add whitespace\n",
    "        print() #add whitespace"
   ]
  },
  {
   "cell_type": "markdown",
   "metadata": {
    "collapsed": true
   },
   "source": [
    "We'll use the compare_clusters function to narrow down our final cluster choices. \n",
    "\n",
    "Disclosure: I tried a lot of different max_df, min_df, and cluster number combinations. There did not seem to be a correlation between silhouette plot score and \"good\" clusters. The best silhouette scores were with a min_df of .3 and a max_df of .4 and when I printed the clusters they all looked the same. But we'll still use it as a starting point. /end disclosure"
   ]
  },
  {
   "cell_type": "code",
   "execution_count": 50,
   "metadata": {
    "collapsed": false
   },
   "outputs": [
    {
     "data": {
      "image/png": "[encoded data removed]",
      "text/plain": [
       "<matplotlib.figure.Figure at 0x17086ad0550>"
      ]
     },
     "metadata": {},
     "output_type": "display_data"
    }
   ],
   "source": [
    "%matplotlib inline\n",
    "compare_clusters(lyrics, range(10,36), .8, .0, stop) "
   ]
  },
  {
   "cell_type": "markdown",
   "metadata": {},
   "source": [
    "The results of comparing the number of clusters show spikes at 15, 18, 25, and 31 clusters. We'll take a look at each of these."
   ]
  },
  {
   "cell_type": "code",
   "execution_count": 51,
   "metadata": {
    "collapsed": false
   },
   "outputs": [
    {
     "name": "stdout",
     "output_type": "stream",
     "text": [
      "Top terms per cluster:\n",
      "\n",
      "Cluster 0 words: oh, ooh, away, whoa, take, want, know, come, go, love, everyth, say,\n",
      "\n",
      "Cluster 1 words: girl, want, boy, world, love, know, parti, like, one, time, goin, help,\n",
      "\n",
      "Cluster 2 words: love, know, want, say, babi, give, never, one, make, heart, let, feel,\n",
      "\n",
      "Cluster 3 words: dan, cest, tout, ell, plus, comm, mai, si, san, ça, vie, jai,\n",
      "\n",
      "Cluster 4 words: time, one, love, day, like, heart, world, eye, never, nan, life, away,\n",
      "\n",
      "Cluster 5 words: ich, und, der, nicht, ist, die, mich, ein, auf, wenn, mir, sie,\n",
      "\n",
      "Cluster 6 words: babi, love, go, come, oh, know, want, girl, nan, let, caus, tell,\n",
      "\n",
      "Cluster 7 words: lord, woman, god, prais, jesus, holi, love, chorus, merri, give, bless, one,\n",
      "\n",
      "Cluster 8 words: come, wait, day, one, back, us, time, around, take, know, gone, way,\n",
      "\n",
      "Cluster 9 words: amor, quiero, si, nunca, vida, vez, solo, tiempo, corazón, porqu, voy, ser,\n",
      "\n",
      "Cluster 10 words: hey, stand, say, life, oh, love, better, well, home, want, go, know,\n",
      "\n",
      "Cluster 11 words: know, never, whi, could, time, say, want, thing, feel, tell, alway, back,\n",
      "\n",
      "Cluster 12 words: go, let, see, one, onli, make, say, know, away, way, feel, time,\n",
      "\n",
      "Cluster 13 words: night, light, dream, eye, see, danc, way, alon, day, dark, long, one,\n",
      "\n",
      "Cluster 14 words: like, nigga, shit, fuck, yall, niggaz, caus, know, make, back, man, see,\n",
      "\n"
     ]
    },
    {
     "data": {
      "text/plain": [
       "4     698\n",
       "11    256\n",
       "12    238\n",
       "13    168\n",
       "14    167\n",
       "9     157\n",
       "2     152\n",
       "8      94\n",
       "6      93\n",
       "0      81\n",
       "3      77\n",
       "7      65\n",
       "1      63\n",
       "10     44\n",
       "5      30\n",
       "Name: clusters, dtype: int64"
      ]
     },
     "execution_count": 51,
     "metadata": {},
     "output_type": "execute_result"
    }
   ],
   "source": [
    "num_clusters = 15  \n",
    "cluster_output = create_clusters(lyrics, tracks, num_clusters, .8, .0)\n",
    "clus_df = cluster_output[0]\n",
    "terms = cluster_output[1]\n",
    "km = cluster_output[2]\n",
    "print_clusters(lyrics, terms, km)\n",
    "clus_df['clusters'].value_counts()"
   ]
  },
  {
   "cell_type": "code",
   "execution_count": 52,
   "metadata": {
    "collapsed": false
   },
   "outputs": [
    {
     "name": "stdout",
     "output_type": "stream",
     "text": [
      "Top terms per cluster:\n",
      "\n",
      "Cluster 0 words: whi, wait, danc, think, come, us, know, see, say, around, time, tell,\n",
      "\n",
      "Cluster 1 words: nan, say, chorus, go, need, make, away, thing, tell, know, way, love,\n",
      "\n",
      "Cluster 2 words: ich, und, der, nicht, ist, die, mich, ein, auf, wenn, mir, sie,\n",
      "\n",
      "Cluster 3 words: dan, cest, tout, ell, plus, comm, mai, si, san, ça, vie, jai,\n",
      "\n",
      "Cluster 4 words: eye, take, burn, hand, see, look, die, away, life, never, time, back,\n",
      "\n",
      "Cluster 5 words: want, know, need, hold, thing, say, parti, love, caus, cri, tell, come,\n",
      "\n",
      "Cluster 6 words: oh, ooh, know, away, whoa, take, love, way, everyth, like, never, make,\n",
      "\n",
      "Cluster 7 words: nan, like, go, night, come, time, way, one, know, day, love, back,\n",
      "\n",
      "Cluster 8 words: like, one, onli, could, feel, never, littl, ever, thing, know, alon, night,\n",
      "\n",
      "Cluster 9 words: right, dream, free, see, follow, light, wrong, night, said, eye, make, way,\n",
      "\n",
      "Cluster 10 words: amor, quiero, si, nunca, vida, vez, tiempo, solo, corazón, porqu, voy, ser,\n",
      "\n",
      "Cluster 11 words: believ, lie, know, noth, never, one, alway, said, god, love, end, mind,\n",
      "\n",
      "Cluster 12 words: love, know, babi, one, never, make, say, heart, come, let, time, oh,\n",
      "\n",
      "Cluster 13 words: lord, wish, tomorrow, beauti, prais, jesus, holi, bless, god, one, way, chorus,\n",
      "\n",
      "Cluster 14 words: hey, oh, say, come, love, go, daddi, want, time, life, better, well,\n",
      "\n",
      "Cluster 15 words: babi, go, love, come, oh, girl, know, let, caus, nan, time, pleas,\n",
      "\n",
      "Cluster 16 words: nigga, like, shit, fuck, niggaz, yall, bitch, caus, know, see, wit, ass,\n",
      "\n",
      "Cluster 17 words: know, let, come, time, go, day, feel, way, say, never, tell, love,\n",
      "\n"
     ]
    },
    {
     "data": {
      "text/plain": [
       "7     667\n",
       "17    211\n",
       "4     203\n",
       "12    164\n",
       "10    161\n",
       "8     143\n",
       "1     104\n",
       "16    101\n",
       "0      97\n",
       "9      88\n",
       "15     84\n",
       "3      77\n",
       "6      76\n",
       "11     53\n",
       "13     47\n",
       "5      46\n",
       "14     31\n",
       "2      30\n",
       "Name: clusters, dtype: int64"
      ]
     },
     "execution_count": 52,
     "metadata": {},
     "output_type": "execute_result"
    }
   ],
   "source": [
    "num_clusters = 18  \n",
    "cluster_output = create_clusters(lyrics, tracks, num_clusters, .8, .0)\n",
    "clus_df = cluster_output[0]\n",
    "terms = cluster_output[1]\n",
    "km = cluster_output[2]\n",
    "print_clusters(lyrics, terms, km)\n",
    "clus_df['clusters'].value_counts()"
   ]
  },
  {
   "cell_type": "code",
   "execution_count": 53,
   "metadata": {
    "collapsed": false
   },
   "outputs": [
    {
     "name": "stdout",
     "output_type": "stream",
     "text": [
      "Top terms per cluster:\n",
      "\n",
      "Cluster 0 words: life, blood, save, lie, hell, death, god, end, eye, demon, earth, fall,\n",
      "\n",
      "Cluster 1 words: one, day, nan, night, see, go, well, like, time, burn, know, never,\n",
      "\n",
      "Cluster 2 words: hey, oh, say, daddi, go, love, life, well, woah, joe, sorri, like,\n",
      "\n",
      "Cluster 3 words: babi, love, go, come, know, caus, oh, girl, time, pleas, nan, need,\n",
      "\n",
      "Cluster 4 words: world, noth, believ, love, heart, eye, look, beat, see, chang, dream, time,\n",
      "\n",
      "Cluster 5 words: run, nan, hide, time, help, away, go, said, place, nan, stop, street,\n",
      "\n",
      "Cluster 6 words: dan, cest, tout, ell, plus, comm, mai, si, san, ça, vie, jai,\n",
      "\n",
      "Cluster 7 words: love, know, one, never, say, babi, heart, oh, make, time, come, let,\n",
      "\n",
      "Cluster 8 words: onli, one, night, alon, could, lone, know, see, love, feel, never, dream,\n",
      "\n",
      "Cluster 9 words: come, feel, hous, around, us, one, know, day, never, take, back, way,\n",
      "\n",
      "Cluster 10 words: lord, way, jesus, rememb, god, holi, walk, oh, love, bless, see, prais,\n",
      "\n",
      "Cluster 11 words: wait, come, long, sunday, see, know, around, two, better, say, go, time,\n",
      "\n",
      "Cluster 12 words: rock, christma, merri, roll, nan, let, littl, listen, know, gone, jingl, steadi,\n",
      "\n",
      "Cluster 13 words: know, let, go, never, time, feel, need, say, make, thing, could, way,\n",
      "\n",
      "Cluster 14 words: amor, hoy, si, siento, vez, quiera, quiero, mejor, corazon, ere, vida, feliz,\n",
      "\n",
      "Cluster 15 words: want, know, take, need, say, love, thing, cri, time, tell, come, caus,\n",
      "\n",
      "Cluster 16 words: ich, und, der, nicht, ist, die, mich, ein, auf, wenn, mir, sie,\n",
      "\n",
      "Cluster 17 words: quiero, si, hace, amor, tiempo, voy, solo, corazón, nunca, ven, vas, ser,\n",
      "\n",
      "Cluster 18 words: oh, day, come, go, away, take, ooh, know, one, love, say, night,\n",
      "\n",
      "Cluster 19 words: nigga, shit, niggaz, yall, like, fuck, bitch, know, nan, wit, see, caus,\n",
      "\n",
      "Cluster 20 words: whi, say, tell, know, see, alway, love, time, said, way, feel, could,\n",
      "\n",
      "Cluster 21 words: girl, boy, world, go, love, know, littl, like, one, make, said, say,\n",
      "\n",
      "Cluster 22 words: whoa, oh, ooh, love, chain, fault, save, wee, nan, ah, ladder, babi,\n",
      "\n",
      "Cluster 23 words: vida, amor, nunca, si, vez, ser, dio, desd, pra, va, mundo, porqu,\n",
      "\n",
      "Cluster 24 words: like, feel, know, see, caus, make, one, head, back, man, go, time,\n",
      "\n"
     ]
    },
    {
     "data": {
      "text/plain": [
       "1     524\n",
       "13    319\n",
       "7     146\n",
       "4     133\n",
       "0     127\n",
       "24    110\n",
       "23     97\n",
       "18     94\n",
       "8      79\n",
       "6      77\n",
       "3      70\n",
       "10     66\n",
       "19     65\n",
       "17     64\n",
       "20     52\n",
       "15     50\n",
       "5      49\n",
       "21     47\n",
       "9      45\n",
       "11     33\n",
       "14     31\n",
       "12     30\n",
       "16     30\n",
       "2      29\n",
       "22     16\n",
       "Name: clusters, dtype: int64"
      ]
     },
     "execution_count": 53,
     "metadata": {},
     "output_type": "execute_result"
    }
   ],
   "source": [
    "num_clusters = 25\n",
    "cluster_output = create_clusters(lyrics, tracks, num_clusters, .8, .0)\n",
    "clus_df = cluster_output[0]\n",
    "terms = cluster_output[1]\n",
    "km = cluster_output[2]\n",
    "print_clusters(lyrics, terms, km)\n",
    "clus_df['clusters'].value_counts()"
   ]
  },
  {
   "cell_type": "code",
   "execution_count": 54,
   "metadata": {
    "collapsed": false
   },
   "outputs": [
    {
     "name": "stdout",
     "output_type": "stream",
     "text": [
      "Top terms per cluster:\n",
      "\n",
      "Cluster 0 words: blood, lie, eye, life, save, fall, mind, light, breath, sky, end, god,\n",
      "\n",
      "Cluster 1 words: everyth, see, light, eye, look, nan, end, come, chang, blue, hate, say,\n",
      "\n",
      "Cluster 2 words: world, stop, love, round, go, noth, say, nan, pleas, make, around, life,\n",
      "\n",
      "Cluster 3 words: beauti, christma, dream, close, merri, tomorrow, morn, pra, wish, bir, ei, jag,\n",
      "\n",
      "Cluster 4 words: nan, hey, like, rock, go, well, back, time, man, know, make, take,\n",
      "\n",
      "Cluster 5 words: oh, go, ooh, whoa, come, know, hey, say, life, nan, never, babi,\n",
      "\n",
      "Cluster 6 words: lord, way, jesus, god, prais, holi, bless, rather, oh, love, chorus, may,\n",
      "\n",
      "Cluster 7 words: nigga, like, shit, niggaz, fuck, yall, bitch, caus, know, wit, ass, make,\n",
      "\n",
      "Cluster 8 words: ich, und, der, nicht, ist, die, mich, ein, auf, wenn, mir, sie,\n",
      "\n",
      "Cluster 9 words: let, go, feel, rain, love, know, tell, right, make, time, good, away,\n",
      "\n",
      "Cluster 10 words: amor, si, vida, corazón, nunca, vez, quiero, siento, porqu, alma, ven, solo,\n",
      "\n",
      "Cluster 11 words: like, feel, tonight, make, nah, know, right, nan, see, never, need, music,\n",
      "\n",
      "Cluster 12 words: come, us, around, wait, time, back, know, never, love, home, see, day,\n",
      "\n",
      "Cluster 13 words: girl, like, love, go, boy, littl, babi, know, world, caus, make, alright,\n",
      "\n",
      "Cluster 14 words: dan, tout, ça, plus, san, mai, yeux, petit, jai, bien, comm, si,\n",
      "\n",
      "Cluster 15 words: love, know, say, babi, never, oh, heart, want, way, make, give, time,\n",
      "\n",
      "Cluster 16 words: cest, ell, comm, plus, si, vie, mai, dan, tout, quon, san, jai,\n",
      "\n",
      "Cluster 17 words: could, day, time, thing, never, say, love, go, know, onli, see, feel,\n",
      "\n",
      "Cluster 18 words: stand, let, ay, man, us, go, give, line, say, keep, know, tri,\n",
      "\n",
      "Cluster 19 words: know, whi, tell, love, feel, say, need, think, never, give, thing, want,\n",
      "\n",
      "Cluster 20 words: burn, turn, follow, town, littl, voic, fire, neon, caus, heart, twist, lead,\n",
      "\n",
      "Cluster 21 words: one, time, believ, onli, love, never, come, chang, life, know, day, sing,\n",
      "\n",
      "Cluster 22 words: babi, love, go, oh, know, come, let, caus, time, think, girl, tell,\n",
      "\n",
      "Cluster 23 words: night, away, danc, take, saturday, one, right, fade, run, oh, day, way,\n",
      "\n",
      "Cluster 24 words: want, know, need, take, wait, love, say, tell, see, thing, way, hold,\n",
      "\n",
      "Cluster 25 words: quiero, hace, tiempo, voy, solo, ahora, si, dio, hacer, nunca, ojo, ser,\n",
      "\n"
     ]
    },
    {
     "data": {
      "text/plain": [
       "4     401\n",
       "17    243\n",
       "3     163\n",
       "0     161\n",
       "15    112\n",
       "19    106\n",
       "21     93\n",
       "7      93\n",
       "23     83\n",
       "10     79\n",
       "25     76\n",
       "22     73\n",
       "5      69\n",
       "11     66\n",
       "12     65\n",
       "20     64\n",
       "2      61\n",
       "6      55\n",
       "24     55\n",
       "16     49\n",
       "13     47\n",
       "9      45\n",
       "1      33\n",
       "18     31\n",
       "14     30\n",
       "8      30\n",
       "Name: clusters, dtype: int64"
      ]
     },
     "execution_count": 54,
     "metadata": {},
     "output_type": "execute_result"
    }
   ],
   "source": [
    "num_clusters = 26  \n",
    "cluster_output = create_clusters(lyrics, tracks, num_clusters, .8, .0)\n",
    "clus_df = cluster_output[0]\n",
    "terms = cluster_output[1]\n",
    "km = cluster_output[2]\n",
    "print_clusters(lyrics, terms, km)\n",
    "clus_df['clusters'].value_counts()"
   ]
  },
  {
   "cell_type": "code",
   "execution_count": 55,
   "metadata": {
    "collapsed": false
   },
   "outputs": [
    {
     "name": "stdout",
     "output_type": "stream",
     "text": [
      "Top terms per cluster:\n",
      "\n",
      "Cluster 0 words: come, wait, around, hous, day, see, us, one, know, never, say, feel,\n",
      "\n",
      "Cluster 1 words: littl, christma, bit, merri, everi, rock, day, go, need, thing, time, spoon,\n",
      "\n",
      "Cluster 2 words: never, time, one, say, love, whi, know, away, thing, said, like, see,\n",
      "\n",
      "Cluster 3 words: night, light, eye, see, danc, heart, look, dream, sky, dark, take, chorus,\n",
      "\n",
      "Cluster 4 words: day, one, god, man, life, beat, around, know, good, like, talk, death,\n",
      "\n",
      "Cluster 5 words: tiempo, si, ser, ay, hace, pra, queda, porqu, dio, dia, nunca, solo,\n",
      "\n",
      "Cluster 6 words: want, know, need, love, thing, way, say, see, caus, cri, tell, never,\n",
      "\n",
      "Cluster 7 words: mind, stay, late, make, time, tell, darl, mayb, right, twist, thing, nan,\n",
      "\n",
      "Cluster 8 words: dan, cest, tout, ell, plus, comm, mai, si, san, ça, vie, jai,\n",
      "\n",
      "Cluster 9 words: nigga, like, shit, fuck, niggaz, yall, caus, know, wit, bitch, nan, make,\n",
      "\n",
      "Cluster 10 words: let, go, know, feel, nan, rain, make, like, love, come, life, time,\n",
      "\n",
      "Cluster 11 words: world, noth, us, life, love, say, welcom, time, come, chang, round, around,\n",
      "\n",
      "Cluster 12 words: girl, boy, love, world, like, know, one, make, go, caus, littl, time,\n",
      "\n",
      "Cluster 13 words: babi, love, go, know, come, oh, caus, girl, like, think, time, nan,\n",
      "\n",
      "Cluster 14 words: ich, und, der, nicht, ist, die, mich, ein, auf, wenn, mir, sie,\n",
      "\n",
      "Cluster 15 words: know, love, tell, day, need, right, want, thing, say, better, feel, think,\n",
      "\n",
      "Cluster 16 words: hoy, si, amor, ven, amo, ahora, ere, basta, puedo, aquí, pienso, vida,\n",
      "\n",
      "Cluster 17 words: save, life, tonight, come, grace, white, chang, angel, back, world, far, face,\n",
      "\n",
      "Cluster 18 words: love, know, babi, one, heart, say, come, oh, want, make, never, let,\n",
      "\n",
      "Cluster 19 words: lord, jesus, thi, way, love, good, lead, god, savior, day, power, one,\n",
      "\n",
      "Cluster 20 words: gone, wrong, reason, right, hold, way, know, love, use, oh, find, left,\n",
      "\n",
      "Cluster 21 words: back, rememb, could, take, come, think, way, time, say, like, use, love,\n",
      "\n",
      "Cluster 22 words: noth, alon, away, turn, walk, burn, love, say, wo, one, walkin, night,\n",
      "\n",
      "Cluster 23 words: feel, like, everyth, road, onli, never, make, away, tell, right, know, anymor,\n",
      "\n",
      "Cluster 24 words: stand, way, home, found, help, find, long, day, set, pick, let, make,\n",
      "\n",
      "Cluster 25 words: prais, lord, glori, god, shall, name, holi, bless, earth, give, yes, salvat,\n",
      "\n",
      "Cluster 26 words: quiero, amor, nunca, vida, ser, si, siento, contigo, porqu, solo, corazón, ojo,\n",
      "\n",
      "Cluster 27 words: hey, love, say, oh, daddi, want, go, sorri, woah, well, joe, time,\n",
      "\n",
      "Cluster 28 words: tonight, hot, ooh, jingl, nan, rock, black, blood, ohh, sleep, oh, like,\n",
      "\n",
      "Cluster 29 words: oh, ooh, whoa, take, away, say, day, know, go, love, make, way,\n",
      "\n",
      "Cluster 30 words: amor, si, vez, corazón, cada, volver, vida, quiera, coro, dond, solo, nunca,\n",
      "\n"
     ]
    },
    {
     "data": {
      "text/plain": [
       "4     333\n",
       "2     283\n",
       "3     165\n",
       "9     111\n",
       "22    110\n",
       "18    106\n",
       "10    104\n",
       "23     80\n",
       "8      77\n",
       "13     76\n",
       "5      75\n",
       "15     74\n",
       "21     69\n",
       "11     65\n",
       "29     62\n",
       "6      56\n",
       "30     55\n",
       "0      50\n",
       "12     48\n",
       "24     43\n",
       "19     41\n",
       "20     39\n",
       "7      38\n",
       "26     32\n",
       "1      32\n",
       "28     30\n",
       "14     30\n",
       "16     28\n",
       "27     27\n",
       "17     22\n",
       "25     22\n",
       "Name: clusters, dtype: int64"
      ]
     },
     "execution_count": 55,
     "metadata": {},
     "output_type": "execute_result"
    }
   ],
   "source": [
    "num_clusters = 31  \n",
    "cluster_output = create_clusters(lyrics, tracks, num_clusters, .8, .0)\n",
    "clus_df = cluster_output[0]\n",
    "terms = cluster_output[1]\n",
    "km = cluster_output[2]\n",
    "print_clusters(lyrics, terms, km)\n",
    "clus_df['clusters'].value_counts()"
   ]
  },
  {
   "cell_type": "markdown",
   "metadata": {
    "collapsed": true
   },
   "source": [
    "References\n",
    "\n",
    "http://aimotion.blogspot.com/2011/12/machine-learning-with-python-meeting-tf.html\n",
    "\n",
    "http://stevenloria.com/finding-important-words-in-a-document-using-tf-idf/\n",
    "\n",
    "http://scikit-learn.org/stable/modules/generated/sklearn.feature_extraction.text.TfidfVectorizer.html\n",
    "\n",
    "https://github.com/grfiv/haiku_analysis/blob/master/Bag-of-Words%20Analysis%20Haiku%20(unsupervised,%20tf-idf%20%26%20kmeans,%20Silhouette).ipynb\n",
    "\n",
    "http://scikit-learn.org/stable/modules/generated/sklearn.metrics.pairwise.pairwise_distances.html#sklearn.metrics.pairwise.pairwise_distances\n",
    "\n",
    "http://scikit-learn.org/stable/auto_examples/text/document_clustering.html\n",
    "\n",
    "https://de.dariah.eu/tatom/working_with_text.html\n",
    "\n",
    "http://brandonrose.org/clustering    \n",
    "\n",
    "stemming: http://snowball.tartarus.org/texts/introduction.html\n",
    "\n",
    "href=\"https://github.com/grfiv/haiku_analysis/blob/master/Bag-of-Words%20Analysis%20Haiku%20(unsupervised,%20tf-idf%20%26%20kmeans,%20Silhouette).ipynb\">Haiku Analysis Project</a> and chapter 5 of the text: Python Data Science Cookbook."
   ]
  }
 ],
 "metadata": {
  "kernelspec": {
   "display_name": "Python 3",
   "language": "python",
   "name": "python3"
  },
  "language_info": {
   "codemirror_mode": {
    "name": "ipython",
    "version": 3
   },
   "file_extension": ".py",
   "mimetype": "text/x-python",
   "name": "python",
   "nbconvert_exporter": "python",
   "pygments_lexer": "ipython3",
   "version": "3.5.1"
  }
 },
 "nbformat": 4,
 "nbformat_minor": 0
}
