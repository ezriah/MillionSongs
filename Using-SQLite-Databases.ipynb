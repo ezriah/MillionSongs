{
 "cells": [
  {
   "cell_type": "markdown",
   "metadata": {},
   "source": [
    "## Million Songs Dataset - Using SQLite Databases "
   ]
  },
  {
   "cell_type": "markdown",
   "metadata": {},
   "source": [
    "There are five databases available to us:\n",
    "\n",
    "* [track_metadata.db](http://labrosa.ee.columbia.edu/millionsong/sites/default/files/AdditionalFiles/track_metadata.db) contains most metadata about each track\n",
    "* [artist_term.db](http://www.ee.columbia.edu/~thierry/artist_term.db) links artists id's to the tags\n",
    "* [artist_similarity.db](http://www.ee.columbia.edu/~thierry/artist_similarity.db) contains similarity among artists\n",
    "* [mxm_dataset.db](http://labrosa.ee.columbia.edu/millionsong/sites/default/files/AdditionalFiles/mxm_dataset.db) has lyrics for many of the tracks\n",
    "   \n",
    "Information about the first three can be found at http://labrosa.ee.columbia.edu/millionsong/pages/getting-dataset#subset \n",
    "\n",
    "For information about the musiXmatch database go to http://labrosa.ee.columbia.edu/millionsong/musixmatch"
   ]
  },
  {
   "cell_type": "code",
   "execution_count": 36,
   "metadata": {
    "collapsed": false
   },
   "outputs": [],
   "source": [
    "import pandas as pd\n",
    "import sqlite3\n",
    "from nltk.corpus import stopwords"
   ]
  },
  {
   "cell_type": "markdown",
   "metadata": {},
   "source": [
    "We first need to create a connection to each of our database files. Each of the files is stored in the same folder as this document. We'll use the connection every time we query the database."
   ]
  },
  {
   "cell_type": "code",
   "execution_count": 37,
   "metadata": {
    "collapsed": false
   },
   "outputs": [],
   "source": [
    "conn_tracks = sqlite3.connect('../Data/track_metadata.db')\n",
    "conn_terms = sqlite3.connect('../Data/artist_term.db')\n",
    "conn_similarity = sqlite3.connect('../Data/artist_similarity.db')\n",
    "conn_lyrics = sqlite3.connect('../Data/mxm_dataset.db')"
   ]
  },
  {
   "cell_type": "markdown",
   "metadata": {},
   "source": [
    "After we've created connections, there are a couple of ways we can pull data from the databases:\n",
    "\n",
    "1. We can use SQLite to create a cursor which then fetches records based on our query parameters. A cursor is a database object used to traverse records in a database. The .execute method creates a cursor and then calls the cursors execute method. It returns the results as a list.\n",
    "\n",
    "2. We can use the pandas read.sql function. It returns the results as a pandas DataFrame object\n",
    "\n",
    "First, we'll want to look at the database schema. We'll start off by querying the sqlite_master table from a single sqlite database file. The sqlite_master table defines the schema for the database. We'll use that to get information about the database and create our first query. More information about the sqlite_master table can be found at view-source:https://www.sqlite.org/faq.html#q7"
   ]
  },
  {
   "cell_type": "code",
   "execution_count": 38,
   "metadata": {
    "collapsed": false
   },
   "outputs": [
    {
     "data": {
      "text/plain": [
       "list"
      ]
     },
     "execution_count": 38,
     "metadata": {},
     "output_type": "execute_result"
    }
   ],
   "source": [
    "res = conn_tracks.execute(\"SELECT * FROM sqlite_master WHERE type = 'table'\")\n",
    "schema1 = res.fetchall()\n",
    "type(schema1)"
   ]
  },
  {
   "cell_type": "code",
   "execution_count": 39,
   "metadata": {
    "collapsed": false
   },
   "outputs": [
    {
     "data": {
      "text/plain": [
       "[('table',\n",
       "  'songs',\n",
       "  'songs',\n",
       "  2,\n",
       "  'CREATE TABLE songs (track_id text PRIMARY KEY, title text, song_id text, release text, artist_id text, artist_mbid text, artist_name text, duration real, artist_familiarity real, artist_hotttnesss real, year int, track_7digitalid int, shs_perf int, shs_work int)')]"
      ]
     },
     "execution_count": 39,
     "metadata": {},
     "output_type": "execute_result"
    }
   ],
   "source": [
    "schema1"
   ]
  },
  {
   "cell_type": "markdown",
   "metadata": {},
   "source": [
    "We can also wrap this in a pandas DataFrame object. "
   ]
  },
  {
   "cell_type": "code",
   "execution_count": 40,
   "metadata": {
    "collapsed": false
   },
   "outputs": [
    {
     "data": {
      "text/html": [
       "<div>\n",
       "<table border=\"1\" class=\"dataframe\">\n",
       "  <thead>\n",
       "    <tr style=\"text-align: right;\">\n",
       "      <th></th>\n",
       "      <th>0</th>\n",
       "      <th>1</th>\n",
       "      <th>2</th>\n",
       "      <th>3</th>\n",
       "      <th>4</th>\n",
       "    </tr>\n",
       "  </thead>\n",
       "  <tbody>\n",
       "    <tr>\n",
       "      <th>0</th>\n",
       "      <td>table</td>\n",
       "      <td>songs</td>\n",
       "      <td>songs</td>\n",
       "      <td>2</td>\n",
       "      <td>CREATE TABLE songs (track_id text PRIMARY KEY,...</td>\n",
       "    </tr>\n",
       "  </tbody>\n",
       "</table>\n",
       "</div>"
      ],
      "text/plain": [
       "       0      1      2  3                                                  4\n",
       "0  table  songs  songs  2  CREATE TABLE songs (track_id text PRIMARY KEY,..."
      ]
     },
     "execution_count": 40,
     "metadata": {},
     "output_type": "execute_result"
    }
   ],
   "source": [
    "pd.DataFrame(schema1)"
   ]
  },
  {
   "cell_type": "code",
   "execution_count": 41,
   "metadata": {
    "collapsed": false
   },
   "outputs": [
    {
     "data": {
      "text/plain": [
       "pandas.core.frame.DataFrame"
      ]
     },
     "execution_count": 41,
     "metadata": {},
     "output_type": "execute_result"
    }
   ],
   "source": [
    "schema2 = pd.read_sql('SELECT * FROM sqlite_master where type=\"table\"', con=conn_tracks)\n",
    "type(schema2)"
   ]
  },
  {
   "cell_type": "code",
   "execution_count": 42,
   "metadata": {
    "collapsed": false,
    "scrolled": false
   },
   "outputs": [
    {
     "data": {
      "text/html": [
       "<div>\n",
       "<table border=\"1\" class=\"dataframe\">\n",
       "  <thead>\n",
       "    <tr style=\"text-align: right;\">\n",
       "      <th></th>\n",
       "      <th>type</th>\n",
       "      <th>name</th>\n",
       "      <th>tbl_name</th>\n",
       "      <th>rootpage</th>\n",
       "      <th>sql</th>\n",
       "    </tr>\n",
       "  </thead>\n",
       "  <tbody>\n",
       "    <tr>\n",
       "      <th>0</th>\n",
       "      <td>table</td>\n",
       "      <td>songs</td>\n",
       "      <td>songs</td>\n",
       "      <td>2</td>\n",
       "      <td>CREATE TABLE songs (track_id text PRIMARY KEY,...</td>\n",
       "    </tr>\n",
       "  </tbody>\n",
       "</table>\n",
       "</div>"
      ],
      "text/plain": [
       "    type   name tbl_name  rootpage  \\\n",
       "0  table  songs    songs         2   \n",
       "\n",
       "                                                 sql  \n",
       "0  CREATE TABLE songs (track_id text PRIMARY KEY,...  "
      ]
     },
     "execution_count": 42,
     "metadata": {},
     "output_type": "execute_result"
    }
   ],
   "source": [
    "schema2"
   ]
  },
  {
   "cell_type": "markdown",
   "metadata": {},
   "source": [
    "For the schema and for some exploration, it makes more sense to pull it as a list, but when we start pulling data from tables, we'll want to use the  pandas read_sql() function, which retains the column headers. Next, we'll explore each of the databases available to us."
   ]
  },
  {
   "cell_type": "markdown",
   "metadata": {},
   "source": [
    "## track_metadata\n",
    "\n",
    "We've seen that there is a single table in track metadata, called songs. Let's find out more about the table. We use our tracks connection to pull data from the songs table. We use fetchall(), which fetches all of the records. We'll use fetchall to get the length of the list."
   ]
  },
  {
   "cell_type": "markdown",
   "metadata": {},
   "source": [
    "Lets fetch a row from the songs table and find out how long it is. "
   ]
  },
  {
   "cell_type": "code",
   "execution_count": 43,
   "metadata": {
    "collapsed": false
   },
   "outputs": [
    {
     "data": {
      "text/plain": [
       "1000000"
      ]
     },
     "execution_count": 43,
     "metadata": {},
     "output_type": "execute_result"
    }
   ],
   "source": [
    "res = conn_tracks.execute(\"SELECT * FROM songs\")\n",
    "len(res.fetchall()) "
   ]
  },
  {
   "cell_type": "markdown",
   "metadata": {},
   "source": [
    "Now lets look at the list itself."
   ]
  },
  {
   "cell_type": "code",
   "execution_count": 44,
   "metadata": {
    "collapsed": false,
    "scrolled": true
   },
   "outputs": [
    {
     "data": {
      "text/plain": [
       "[]"
      ]
     },
     "execution_count": 44,
     "metadata": {},
     "output_type": "execute_result"
    }
   ],
   "source": [
    "res.fetchall()"
   ]
  },
  {
   "cell_type": "markdown",
   "metadata": {},
   "source": [
    "We come up with an empty list. Why? \n",
    "\n",
    "It's because there are no remaining rows to fetch using that cursor. When we used the cursor to determine the length of our list, we traversed the entire list. We need to re-initialize the cursor to look at the values in words. We'll save the list to a variable this time."
   ]
  },
  {
   "cell_type": "code",
   "execution_count": 45,
   "metadata": {
    "collapsed": false
   },
   "outputs": [],
   "source": [
    "res = conn_tracks.execute(\"SELECT * FROM songs\")\n",
    "tracks = res.fetchall()"
   ]
  },
  {
   "cell_type": "code",
   "execution_count": 46,
   "metadata": {
    "collapsed": false
   },
   "outputs": [
    {
     "data": {
      "text/plain": [
       "(1000000,\n",
       " ('TRMMMYQ128F932D901',\n",
       "  'Silent Night',\n",
       "  'SOQMMHC12AB0180CB8',\n",
       "  'Monster Ballads X-Mas',\n",
       "  'ARYZTJS1187B98C555',\n",
       "  '357ff05d-848a-44cf-b608-cb34b5701ae5',\n",
       "  'Faster Pussy cat',\n",
       "  252.05506,\n",
       "  0.649822100201,\n",
       "  0.394031892714,\n",
       "  2003,\n",
       "  7032331,\n",
       "  -1,\n",
       "  0))"
      ]
     },
     "execution_count": 46,
     "metadata": {},
     "output_type": "execute_result"
    }
   ],
   "source": [
    "len(tracks), tracks[0]"
   ]
  },
  {
   "cell_type": "markdown",
   "metadata": {},
   "source": [
    "We can also look at a single track using fetchone(), which fetches the next record."
   ]
  },
  {
   "cell_type": "code",
   "execution_count": 47,
   "metadata": {
    "collapsed": false
   },
   "outputs": [
    {
     "data": {
      "text/plain": [
       "(('TRMMMYQ128F932D901',\n",
       "  'Silent Night',\n",
       "  'SOQMMHC12AB0180CB8',\n",
       "  'Monster Ballads X-Mas',\n",
       "  'ARYZTJS1187B98C555',\n",
       "  '357ff05d-848a-44cf-b608-cb34b5701ae5',\n",
       "  'Faster Pussy cat',\n",
       "  252.05506,\n",
       "  0.649822100201,\n",
       "  0.394031892714,\n",
       "  2003,\n",
       "  7032331,\n",
       "  -1,\n",
       "  0),\n",
       " ('TRMMMKD128F425225D',\n",
       "  'Tanssi vaan',\n",
       "  'SOVFVAK12A8C1350D9',\n",
       "  'Karkuteillä',\n",
       "  'ARMVN3U1187FB3A1EB',\n",
       "  '8d7ef530-a6fd-4f8f-b2e2-74aec765e0f9',\n",
       "  'Karkkiautomaatti',\n",
       "  156.55138,\n",
       "  0.439603966677,\n",
       "  0.356992107756,\n",
       "  1995,\n",
       "  1514808,\n",
       "  -1,\n",
       "  0))"
      ]
     },
     "execution_count": 47,
     "metadata": {},
     "output_type": "execute_result"
    }
   ],
   "source": [
    "res = conn_tracks.execute(\"SELECT * FROM songs\")\n",
    "res.fetchone(), res.fetchone()"
   ]
  },
  {
   "cell_type": "markdown",
   "metadata": {},
   "source": [
    "Using fetchone()[i] can be used to extract the ith element from the record. "
   ]
  },
  {
   "cell_type": "code",
   "execution_count": 48,
   "metadata": {
    "collapsed": false
   },
   "outputs": [
    {
     "data": {
      "text/plain": [
       "'Silent Night'"
      ]
     },
     "execution_count": 48,
     "metadata": {},
     "output_type": "execute_result"
    }
   ],
   "source": [
    "res = conn_tracks.execute(\"SELECT * FROM songs\")\n",
    "res.fetchone()[1]"
   ]
  },
  {
   "cell_type": "markdown",
   "metadata": {},
   "source": [
    "Finally, lets read all of the data into a database we can use."
   ]
  },
  {
   "cell_type": "code",
   "execution_count": 49,
   "metadata": {
    "collapsed": false
   },
   "outputs": [],
   "source": [
    "songs = pd.read_sql(\"SELECT * FROM SONGS\", con = conn_tracks)"
   ]
  },
  {
   "cell_type": "code",
   "execution_count": 50,
   "metadata": {
    "collapsed": false
   },
   "outputs": [
    {
     "data": {
      "text/html": [
       "<div>\n",
       "<table border=\"1\" class=\"dataframe\">\n",
       "  <thead>\n",
       "    <tr style=\"text-align: right;\">\n",
       "      <th></th>\n",
       "      <th>track_id</th>\n",
       "      <th>title</th>\n",
       "      <th>song_id</th>\n",
       "      <th>release</th>\n",
       "      <th>artist_id</th>\n",
       "      <th>artist_mbid</th>\n",
       "      <th>artist_name</th>\n",
       "      <th>duration</th>\n",
       "      <th>artist_familiarity</th>\n",
       "      <th>artist_hotttnesss</th>\n",
       "      <th>year</th>\n",
       "      <th>track_7digitalid</th>\n",
       "      <th>shs_perf</th>\n",
       "      <th>shs_work</th>\n",
       "    </tr>\n",
       "  </thead>\n",
       "  <tbody>\n",
       "    <tr>\n",
       "      <th>0</th>\n",
       "      <td>TRMMMYQ128F932D901</td>\n",
       "      <td>Silent Night</td>\n",
       "      <td>SOQMMHC12AB0180CB8</td>\n",
       "      <td>Monster Ballads X-Mas</td>\n",
       "      <td>ARYZTJS1187B98C555</td>\n",
       "      <td>357ff05d-848a-44cf-b608-cb34b5701ae5</td>\n",
       "      <td>Faster Pussy cat</td>\n",
       "      <td>252.05506</td>\n",
       "      <td>0.649822</td>\n",
       "      <td>0.394032</td>\n",
       "      <td>2003</td>\n",
       "      <td>7032331</td>\n",
       "      <td>-1</td>\n",
       "      <td>0</td>\n",
       "    </tr>\n",
       "    <tr>\n",
       "      <th>1</th>\n",
       "      <td>TRMMMKD128F425225D</td>\n",
       "      <td>Tanssi vaan</td>\n",
       "      <td>SOVFVAK12A8C1350D9</td>\n",
       "      <td>Karkuteillä</td>\n",
       "      <td>ARMVN3U1187FB3A1EB</td>\n",
       "      <td>8d7ef530-a6fd-4f8f-b2e2-74aec765e0f9</td>\n",
       "      <td>Karkkiautomaatti</td>\n",
       "      <td>156.55138</td>\n",
       "      <td>0.439604</td>\n",
       "      <td>0.356992</td>\n",
       "      <td>1995</td>\n",
       "      <td>1514808</td>\n",
       "      <td>-1</td>\n",
       "      <td>0</td>\n",
       "    </tr>\n",
       "    <tr>\n",
       "      <th>2</th>\n",
       "      <td>TRMMMRX128F93187D9</td>\n",
       "      <td>No One Could Ever</td>\n",
       "      <td>SOGTUKN12AB017F4F1</td>\n",
       "      <td>Butter</td>\n",
       "      <td>ARGEKB01187FB50750</td>\n",
       "      <td>3d403d44-36ce-465c-ad43-ae877e65adc4</td>\n",
       "      <td>Hudson Mohawke</td>\n",
       "      <td>138.97098</td>\n",
       "      <td>0.643681</td>\n",
       "      <td>0.437504</td>\n",
       "      <td>2006</td>\n",
       "      <td>6945353</td>\n",
       "      <td>-1</td>\n",
       "      <td>0</td>\n",
       "    </tr>\n",
       "    <tr>\n",
       "      <th>3</th>\n",
       "      <td>TRMMMCH128F425532C</td>\n",
       "      <td>Si Vos Querés</td>\n",
       "      <td>SOBNYVR12A8C13558C</td>\n",
       "      <td>De Culo</td>\n",
       "      <td>ARNWYLR1187B9B2F9C</td>\n",
       "      <td>12be7648-7094-495f-90e6-df4189d68615</td>\n",
       "      <td>Yerba Brava</td>\n",
       "      <td>145.05751</td>\n",
       "      <td>0.448501</td>\n",
       "      <td>0.372349</td>\n",
       "      <td>2003</td>\n",
       "      <td>2168257</td>\n",
       "      <td>-1</td>\n",
       "      <td>0</td>\n",
       "    </tr>\n",
       "    <tr>\n",
       "      <th>4</th>\n",
       "      <td>TRMMMWA128F426B589</td>\n",
       "      <td>Tangle Of Aspens</td>\n",
       "      <td>SOHSBXH12A8C13B0DF</td>\n",
       "      <td>Rene Ablaze Presents Winter Sessions</td>\n",
       "      <td>AREQDTE1269FB37231</td>\n",
       "      <td></td>\n",
       "      <td>Der Mystic</td>\n",
       "      <td>514.29832</td>\n",
       "      <td>0.000000</td>\n",
       "      <td>0.000000</td>\n",
       "      <td>0</td>\n",
       "      <td>2264873</td>\n",
       "      <td>-1</td>\n",
       "      <td>0</td>\n",
       "    </tr>\n",
       "  </tbody>\n",
       "</table>\n",
       "</div>"
      ],
      "text/plain": [
       "             track_id              title             song_id  \\\n",
       "0  TRMMMYQ128F932D901       Silent Night  SOQMMHC12AB0180CB8   \n",
       "1  TRMMMKD128F425225D        Tanssi vaan  SOVFVAK12A8C1350D9   \n",
       "2  TRMMMRX128F93187D9  No One Could Ever  SOGTUKN12AB017F4F1   \n",
       "3  TRMMMCH128F425532C      Si Vos Querés  SOBNYVR12A8C13558C   \n",
       "4  TRMMMWA128F426B589   Tangle Of Aspens  SOHSBXH12A8C13B0DF   \n",
       "\n",
       "                                release           artist_id  \\\n",
       "0                 Monster Ballads X-Mas  ARYZTJS1187B98C555   \n",
       "1                           Karkuteillä  ARMVN3U1187FB3A1EB   \n",
       "2                                Butter  ARGEKB01187FB50750   \n",
       "3                               De Culo  ARNWYLR1187B9B2F9C   \n",
       "4  Rene Ablaze Presents Winter Sessions  AREQDTE1269FB37231   \n",
       "\n",
       "                            artist_mbid       artist_name   duration  \\\n",
       "0  357ff05d-848a-44cf-b608-cb34b5701ae5  Faster Pussy cat  252.05506   \n",
       "1  8d7ef530-a6fd-4f8f-b2e2-74aec765e0f9  Karkkiautomaatti  156.55138   \n",
       "2  3d403d44-36ce-465c-ad43-ae877e65adc4    Hudson Mohawke  138.97098   \n",
       "3  12be7648-7094-495f-90e6-df4189d68615       Yerba Brava  145.05751   \n",
       "4                                              Der Mystic  514.29832   \n",
       "\n",
       "   artist_familiarity  artist_hotttnesss  year  track_7digitalid  shs_perf  \\\n",
       "0            0.649822           0.394032  2003           7032331        -1   \n",
       "1            0.439604           0.356992  1995           1514808        -1   \n",
       "2            0.643681           0.437504  2006           6945353        -1   \n",
       "3            0.448501           0.372349  2003           2168257        -1   \n",
       "4            0.000000           0.000000     0           2264873        -1   \n",
       "\n",
       "   shs_work  \n",
       "0         0  \n",
       "1         0  \n",
       "2         0  \n",
       "3         0  \n",
       "4         0  "
      ]
     },
     "execution_count": 50,
     "metadata": {},
     "output_type": "execute_result"
    }
   ],
   "source": [
    "songs.head(5)"
   ]
  },
  {
   "cell_type": "markdown",
   "metadata": {},
   "source": [
    "## artist_term\n",
    "\n",
    "The first thing we'll do is look at the table structure.\n",
    "\n",
    "MOER ABOUT WHATS HERE"
   ]
  },
  {
   "cell_type": "code",
   "execution_count": 51,
   "metadata": {
    "collapsed": false
   },
   "outputs": [
    {
     "data": {
      "text/plain": [
       "[('table',\n",
       "  'artists',\n",
       "  'artists',\n",
       "  2,\n",
       "  'CREATE TABLE artists (artist_id text PRIMARY KEY)'),\n",
       " ('table',\n",
       "  'terms',\n",
       "  'terms',\n",
       "  2459,\n",
       "  'CREATE TABLE terms (term text PRIMARY KEY)'),\n",
       " ('table',\n",
       "  'artist_term',\n",
       "  'artist_term',\n",
       "  2782,\n",
       "  'CREATE TABLE artist_term (artist_id text, term text, FOREIGN KEY(artist_id) REFERENCES artists(artist_id), FOREIGN KEY(term) REFERENCES terms(term) )'),\n",
       " ('table',\n",
       "  'mbtags',\n",
       "  'mbtags',\n",
       "  2783,\n",
       "  'CREATE TABLE mbtags (mbtag text PRIMARY KEY)'),\n",
       " ('table',\n",
       "  'artist_mbtag',\n",
       "  'artist_mbtag',\n",
       "  2876,\n",
       "  'CREATE TABLE artist_mbtag (artist_id text, mbtag text, FOREIGN KEY(artist_id) REFERENCES artists(artist_id), FOREIGN KEY(mbtag) REFERENCES mbtags(mbtag) )')]"
      ]
     },
     "execution_count": 51,
     "metadata": {},
     "output_type": "execute_result"
    }
   ],
   "source": [
    "res = conn_terms.execute(\"Select * FROM sqlite_master where type = 'table'\")\n",
    "res.fetchall()"
   ]
  },
  {
   "cell_type": "markdown",
   "metadata": {},
   "source": [
    "We can see that there are 5 tables in this database: artists, terms, artist_term, mbtags, and artist_mbtag"
   ]
  },
  {
   "cell_type": "markdown",
   "metadata": {},
   "source": [
    "The artists table is simply a list of all of the artists represented in the database. There are 44,745 artists in the database. "
   ]
  },
  {
   "cell_type": "code",
   "execution_count": 52,
   "metadata": {
    "collapsed": false
   },
   "outputs": [
    {
     "data": {
      "text/plain": [
       "(44745,             artist_id\n",
       " 0  AR002UA1187B9A637D\n",
       " 1  AR003FB1187B994355\n",
       " 2  AR006821187FB5192B\n",
       " 3  AR009211187B989185\n",
       " 4  AR009SZ1187B9A73F4)"
      ]
     },
     "execution_count": 52,
     "metadata": {},
     "output_type": "execute_result"
    }
   ],
   "source": [
    "artists = pd.read_sql(\"SELECT * FROM artists\", con=conn_terms)\n",
    "len(artists), artists.head(5)"
   ]
  },
  {
   "cell_type": "markdown",
   "metadata": {},
   "source": [
    "The terms table contains 7643 different terms. \n",
    "\n",
    "From http://labrosa.ee.columbia.edu/millionsong/pages/what-difference-between-terms-and-mbtags: \"Terms\" are the tags provided by The Echo Nest. They can come from a number of places, but mostly blogs as far as we understand."
   ]
  },
  {
   "cell_type": "code",
   "execution_count": 53,
   "metadata": {
    "collapsed": false
   },
   "outputs": [
    {
     "data": {
      "text/plain": [
       "(7643,            term\n",
       " 7633       zulu\n",
       " 7634        zum\n",
       " 7635     zurich\n",
       " 7636       zxzw\n",
       " 7637  zxzw 2005\n",
       " 7638  zxzw 2006\n",
       " 7639  zxzw 2007\n",
       " 7640  zxzw 2008\n",
       " 7641  zxzw 2009\n",
       " 7642     zydeco)"
      ]
     },
     "execution_count": 53,
     "metadata": {},
     "output_type": "execute_result"
    }
   ],
   "source": [
    "terms = pd.read_sql(\"SELECT * FROM terms\", con=conn_terms)\n",
    "len(terms), terms.tail(10)"
   ]
  },
  {
   "cell_type": "markdown",
   "metadata": {},
   "source": [
    "The artist_term table links artists and terms. There are 1,109,381 rows in this table. "
   ]
  },
  {
   "cell_type": "code",
   "execution_count": 54,
   "metadata": {
    "collapsed": false
   },
   "outputs": [
    {
     "data": {
      "text/plain": [
       "(1109381,             artist_id          term\n",
       " 0  AR002UA1187B9A637D   garage rock\n",
       " 1  AR002UA1187B9A637D  country rock\n",
       " 2  AR002UA1187B9A637D     free jazz\n",
       " 3  AR002UA1187B9A637D            oi\n",
       " 4  AR002UA1187B9A637D    space rock\n",
       " 5  AR002UA1187B9A637D     power pop\n",
       " 6  AR002UA1187B9A637D    indie rock\n",
       " 7  AR002UA1187B9A637D        reggae\n",
       " 8  AR002UA1187B9A637D      pop rock\n",
       " 9  AR002UA1187B9A637D          rock)"
      ]
     },
     "execution_count": 54,
     "metadata": {},
     "output_type": "execute_result"
    }
   ],
   "source": [
    "artist_term = pd.read_sql(\"SELECT * FROM artist_term\", con=conn_terms)\n",
    "len(artist_term), artist_term.head(10)"
   ]
  },
  {
   "cell_type": "markdown",
   "metadata": {},
   "source": [
    "We use the sum function to find the number of terms associated with artist \"AR002UA1187B9A637D\"."
   ]
  },
  {
   "cell_type": "code",
   "execution_count": 55,
   "metadata": {
    "collapsed": false
   },
   "outputs": [
    {
     "data": {
      "text/plain": [
       "27"
      ]
     },
     "execution_count": 55,
     "metadata": {},
     "output_type": "execute_result"
    }
   ],
   "source": [
    "sum(artist_term['artist_id'] == 'AR002UA1187B9A637D')"
   ]
  },
  {
   "cell_type": "markdown",
   "metadata": {},
   "source": [
    "Next we look at the terms associated with artist \"AR002UA1187B9A637D\"."
   ]
  },
  {
   "cell_type": "code",
   "execution_count": 56,
   "metadata": {
    "collapsed": false
   },
   "outputs": [
    {
     "data": {
      "text/html": [
       "<div>\n",
       "<table border=\"1\" class=\"dataframe\">\n",
       "  <thead>\n",
       "    <tr style=\"text-align: right;\">\n",
       "      <th></th>\n",
       "      <th>artist_id</th>\n",
       "      <th>term</th>\n",
       "    </tr>\n",
       "  </thead>\n",
       "  <tbody>\n",
       "    <tr>\n",
       "      <th>0</th>\n",
       "      <td>AR002UA1187B9A637D</td>\n",
       "      <td>garage rock</td>\n",
       "    </tr>\n",
       "    <tr>\n",
       "      <th>1</th>\n",
       "      <td>AR002UA1187B9A637D</td>\n",
       "      <td>country rock</td>\n",
       "    </tr>\n",
       "    <tr>\n",
       "      <th>2</th>\n",
       "      <td>AR002UA1187B9A637D</td>\n",
       "      <td>free jazz</td>\n",
       "    </tr>\n",
       "    <tr>\n",
       "      <th>3</th>\n",
       "      <td>AR002UA1187B9A637D</td>\n",
       "      <td>oi</td>\n",
       "    </tr>\n",
       "    <tr>\n",
       "      <th>4</th>\n",
       "      <td>AR002UA1187B9A637D</td>\n",
       "      <td>space rock</td>\n",
       "    </tr>\n",
       "    <tr>\n",
       "      <th>5</th>\n",
       "      <td>AR002UA1187B9A637D</td>\n",
       "      <td>power pop</td>\n",
       "    </tr>\n",
       "    <tr>\n",
       "      <th>6</th>\n",
       "      <td>AR002UA1187B9A637D</td>\n",
       "      <td>indie rock</td>\n",
       "    </tr>\n",
       "    <tr>\n",
       "      <th>7</th>\n",
       "      <td>AR002UA1187B9A637D</td>\n",
       "      <td>reggae</td>\n",
       "    </tr>\n",
       "    <tr>\n",
       "      <th>8</th>\n",
       "      <td>AR002UA1187B9A637D</td>\n",
       "      <td>pop rock</td>\n",
       "    </tr>\n",
       "    <tr>\n",
       "      <th>9</th>\n",
       "      <td>AR002UA1187B9A637D</td>\n",
       "      <td>rock</td>\n",
       "    </tr>\n",
       "    <tr>\n",
       "      <th>10</th>\n",
       "      <td>AR002UA1187B9A637D</td>\n",
       "      <td>indie pop</td>\n",
       "    </tr>\n",
       "    <tr>\n",
       "      <th>11</th>\n",
       "      <td>AR002UA1187B9A637D</td>\n",
       "      <td>female vocalist</td>\n",
       "    </tr>\n",
       "    <tr>\n",
       "      <th>12</th>\n",
       "      <td>AR002UA1187B9A637D</td>\n",
       "      <td>alternative rock</td>\n",
       "    </tr>\n",
       "    <tr>\n",
       "      <th>13</th>\n",
       "      <td>AR002UA1187B9A637D</td>\n",
       "      <td>jazz</td>\n",
       "    </tr>\n",
       "    <tr>\n",
       "      <th>14</th>\n",
       "      <td>AR002UA1187B9A637D</td>\n",
       "      <td>punk</td>\n",
       "    </tr>\n",
       "    <tr>\n",
       "      <th>15</th>\n",
       "      <td>AR002UA1187B9A637D</td>\n",
       "      <td>pop</td>\n",
       "    </tr>\n",
       "    <tr>\n",
       "      <th>16</th>\n",
       "      <td>AR002UA1187B9A637D</td>\n",
       "      <td>experimental</td>\n",
       "    </tr>\n",
       "    <tr>\n",
       "      <th>17</th>\n",
       "      <td>AR002UA1187B9A637D</td>\n",
       "      <td>electronic</td>\n",
       "    </tr>\n",
       "    <tr>\n",
       "      <th>18</th>\n",
       "      <td>AR002UA1187B9A637D</td>\n",
       "      <td>60s</td>\n",
       "    </tr>\n",
       "    <tr>\n",
       "      <th>19</th>\n",
       "      <td>AR002UA1187B9A637D</td>\n",
       "      <td>noise</td>\n",
       "    </tr>\n",
       "    <tr>\n",
       "      <th>20</th>\n",
       "      <td>AR002UA1187B9A637D</td>\n",
       "      <td>english</td>\n",
       "    </tr>\n",
       "    <tr>\n",
       "      <th>21</th>\n",
       "      <td>AR002UA1187B9A637D</td>\n",
       "      <td>lo-fi</td>\n",
       "    </tr>\n",
       "    <tr>\n",
       "      <th>22</th>\n",
       "      <td>AR002UA1187B9A637D</td>\n",
       "      <td>garage</td>\n",
       "    </tr>\n",
       "    <tr>\n",
       "      <th>23</th>\n",
       "      <td>AR002UA1187B9A637D</td>\n",
       "      <td>garage rock revival</td>\n",
       "    </tr>\n",
       "    <tr>\n",
       "      <th>24</th>\n",
       "      <td>AR002UA1187B9A637D</td>\n",
       "      <td>drum and bass</td>\n",
       "    </tr>\n",
       "    <tr>\n",
       "      <th>25</th>\n",
       "      <td>AR002UA1187B9A637D</td>\n",
       "      <td>medwaybeat</td>\n",
       "    </tr>\n",
       "    <tr>\n",
       "      <th>26</th>\n",
       "      <td>AR002UA1187B9A637D</td>\n",
       "      <td>synth punk</td>\n",
       "    </tr>\n",
       "  </tbody>\n",
       "</table>\n",
       "</div>"
      ],
      "text/plain": [
       "             artist_id                 term\n",
       "0   AR002UA1187B9A637D          garage rock\n",
       "1   AR002UA1187B9A637D         country rock\n",
       "2   AR002UA1187B9A637D            free jazz\n",
       "3   AR002UA1187B9A637D                   oi\n",
       "4   AR002UA1187B9A637D           space rock\n",
       "5   AR002UA1187B9A637D            power pop\n",
       "6   AR002UA1187B9A637D           indie rock\n",
       "7   AR002UA1187B9A637D               reggae\n",
       "8   AR002UA1187B9A637D             pop rock\n",
       "9   AR002UA1187B9A637D                 rock\n",
       "10  AR002UA1187B9A637D            indie pop\n",
       "11  AR002UA1187B9A637D      female vocalist\n",
       "12  AR002UA1187B9A637D     alternative rock\n",
       "13  AR002UA1187B9A637D                 jazz\n",
       "14  AR002UA1187B9A637D                 punk\n",
       "15  AR002UA1187B9A637D                  pop\n",
       "16  AR002UA1187B9A637D         experimental\n",
       "17  AR002UA1187B9A637D           electronic\n",
       "18  AR002UA1187B9A637D                  60s\n",
       "19  AR002UA1187B9A637D                noise\n",
       "20  AR002UA1187B9A637D              english\n",
       "21  AR002UA1187B9A637D                lo-fi\n",
       "22  AR002UA1187B9A637D               garage\n",
       "23  AR002UA1187B9A637D  garage rock revival\n",
       "24  AR002UA1187B9A637D        drum and bass\n",
       "25  AR002UA1187B9A637D           medwaybeat\n",
       "26  AR002UA1187B9A637D           synth punk"
      ]
     },
     "execution_count": 56,
     "metadata": {},
     "output_type": "execute_result"
    }
   ],
   "source": [
    "artist_term.loc[artist_term['artist_id'] == 'AR002UA1187B9A637D']"
   ]
  },
  {
   "cell_type": "markdown",
   "metadata": {},
   "source": [
    "The mbtags table contains 2321 terms. \n",
    "\n",
    "\"Mbtags\" are musicbrainz tags, specifically applied by humans to a particular artist. This explains why there are fewer of them (see 'mbtags_count'), but they are usually very clean and informative. For instance, if you want to create a genre recognition task where classes are mutually exclusive, mbtags are likely to be more reliable then terms."
   ]
  },
  {
   "cell_type": "code",
   "execution_count": 57,
   "metadata": {
    "collapsed": false
   },
   "outputs": [
    {
     "data": {
      "text/plain": [
       "(2321,               mbtag\n",
       " 200       aylesbury\n",
       " 201      b00138f5lm\n",
       " 202            bach\n",
       " 203         bachata\n",
       " 204     bad nauheim\n",
       " 205   bahasa melayu\n",
       " 206       bajofondo\n",
       " 207          balady\n",
       " 208        balearic\n",
       " 209          balkan\n",
       " 210          ballad\n",
       " 211         ballads\n",
       " 212       baltimore\n",
       " 213            band\n",
       " 214           banda\n",
       " 215  banda el limon\n",
       " 216      bandleader\n",
       " 217    bandoneonist\n",
       " 218         barbade)"
      ]
     },
     "execution_count": 57,
     "metadata": {},
     "output_type": "execute_result"
    }
   ],
   "source": [
    "mbtags = pd.read_sql(\"SELECT * FROM mbtags\", con=conn_terms)\n",
    "len(mbtags), mbtags[200:219]"
   ]
  },
  {
   "cell_type": "markdown",
   "metadata": {},
   "source": [
    "Finally, the artist_mbtag table associates artists with mbtags."
   ]
  },
  {
   "cell_type": "code",
   "execution_count": 58,
   "metadata": {
    "collapsed": false
   },
   "outputs": [
    {
     "data": {
      "text/plain": [
       "(24777,             artist_id        mbtag\n",
       " 0  AR002UA1187B9A637D           uk\n",
       " 1  AR002UA1187B9A637D         rock\n",
       " 2  AR002UA1187B9A637D  garage rock\n",
       " 3  AR006821187FB5192B         bass\n",
       " 4  AR00A6H1187FB5402A      detroit\n",
       " 5  AR00A6H1187FB5402A         punk\n",
       " 6  AR00A6H1187FB5402A     michigan\n",
       " 7  AR00A6H1187FB5402A          usa\n",
       " 8  AR00B1I1187FB433EB     european\n",
       " 9  AR00B1I1187FB433EB      swedish)"
      ]
     },
     "execution_count": 58,
     "metadata": {},
     "output_type": "execute_result"
    }
   ],
   "source": [
    "artist_mbtag = pd.read_sql(\"SELECT * FROM artist_mbtag\", con=conn_terms)\n",
    "len(artist_mbtag), artist_mbtag.head(10)"
   ]
  },
  {
   "cell_type": "markdown",
   "metadata": {},
   "source": [
    "We see that, using mbtags returns fewer results than using terms. "
   ]
  },
  {
   "cell_type": "code",
   "execution_count": 59,
   "metadata": {
    "collapsed": false
   },
   "outputs": [
    {
     "data": {
      "text/html": [
       "<div>\n",
       "<table border=\"1\" class=\"dataframe\">\n",
       "  <thead>\n",
       "    <tr style=\"text-align: right;\">\n",
       "      <th></th>\n",
       "      <th>artist_id</th>\n",
       "      <th>mbtag</th>\n",
       "    </tr>\n",
       "  </thead>\n",
       "  <tbody>\n",
       "    <tr>\n",
       "      <th>0</th>\n",
       "      <td>AR002UA1187B9A637D</td>\n",
       "      <td>uk</td>\n",
       "    </tr>\n",
       "    <tr>\n",
       "      <th>1</th>\n",
       "      <td>AR002UA1187B9A637D</td>\n",
       "      <td>rock</td>\n",
       "    </tr>\n",
       "    <tr>\n",
       "      <th>2</th>\n",
       "      <td>AR002UA1187B9A637D</td>\n",
       "      <td>garage rock</td>\n",
       "    </tr>\n",
       "  </tbody>\n",
       "</table>\n",
       "</div>"
      ],
      "text/plain": [
       "            artist_id        mbtag\n",
       "0  AR002UA1187B9A637D           uk\n",
       "1  AR002UA1187B9A637D         rock\n",
       "2  AR002UA1187B9A637D  garage rock"
      ]
     },
     "execution_count": 59,
     "metadata": {},
     "output_type": "execute_result"
    }
   ],
   "source": [
    "artist_mbtag.loc[artist_mbtag['artist_id'] == 'AR002UA1187B9A637D']"
   ]
  },
  {
   "cell_type": "markdown",
   "metadata": {},
   "source": [
    "## artist_similarity"
   ]
  },
  {
   "cell_type": "markdown",
   "metadata": {},
   "source": [
    "There is are two tables in the artist_similarity database: artists and similarity."
   ]
  },
  {
   "cell_type": "code",
   "execution_count": 60,
   "metadata": {
    "collapsed": false
   },
   "outputs": [
    {
     "data": {
      "text/plain": [
       "[('table',\n",
       "  'artists',\n",
       "  'artists',\n",
       "  2,\n",
       "  'CREATE TABLE artists (artist_id text PRIMARY KEY)'),\n",
       " ('table',\n",
       "  'similarity',\n",
       "  'similarity',\n",
       "  2459,\n",
       "  'CREATE TABLE similarity (target text, similar text, FOREIGN KEY(target) REFERENCES artists(artist_id), FOREIGN KEY(similar) REFERENCES artists(artist_id) )')]"
      ]
     },
     "execution_count": 60,
     "metadata": {},
     "output_type": "execute_result"
    }
   ],
   "source": [
    "res = conn_similarity.execute(\"Select * FROM sqlite_master where type = 'table'\")\n",
    "res.fetchall()"
   ]
  },
  {
   "cell_type": "markdown",
   "metadata": {},
   "source": [
    "There are 44,745 artists in the artists table, the same number of rows in the artist_terms database."
   ]
  },
  {
   "cell_type": "code",
   "execution_count": 61,
   "metadata": {
    "collapsed": false
   },
   "outputs": [],
   "source": [
    "artists_s = pd.read_sql(\"SELECT * FROM artists\", con = conn_similarity)\n"
   ]
  },
  {
   "cell_type": "code",
   "execution_count": 62,
   "metadata": {
    "collapsed": false
   },
   "outputs": [
    {
     "data": {
      "text/plain": [
       "44745"
      ]
     },
     "execution_count": 62,
     "metadata": {},
     "output_type": "execute_result"
    }
   ],
   "source": [
    "len(artists_s)"
   ]
  },
  {
   "cell_type": "code",
   "execution_count": 63,
   "metadata": {
    "collapsed": true
   },
   "outputs": [],
   "source": [
    "similarity = pd.read_sql(\"SELECT * FROM similarity\", con = conn_similarity)"
   ]
  },
  {
   "cell_type": "markdown",
   "metadata": {},
   "source": [
    "There are 2,201,916 rows in the similarity table."
   ]
  },
  {
   "cell_type": "code",
   "execution_count": 64,
   "metadata": {
    "collapsed": false
   },
   "outputs": [
    {
     "data": {
      "text/plain": [
       "2201916"
      ]
     },
     "execution_count": 64,
     "metadata": {},
     "output_type": "execute_result"
    }
   ],
   "source": [
    "len(similarity)"
   ]
  },
  {
   "cell_type": "markdown",
   "metadata": {},
   "source": [
    "Using the same artist we used in exploring the artist_term database, we find the artist is similar to 46 other artists."
   ]
  },
  {
   "cell_type": "code",
   "execution_count": 65,
   "metadata": {
    "collapsed": false
   },
   "outputs": [
    {
     "data": {
      "text/html": [
       "<div>\n",
       "<table border=\"1\" class=\"dataframe\">\n",
       "  <thead>\n",
       "    <tr style=\"text-align: right;\">\n",
       "      <th></th>\n",
       "      <th>target</th>\n",
       "      <th>similar</th>\n",
       "    </tr>\n",
       "  </thead>\n",
       "  <tbody>\n",
       "    <tr>\n",
       "      <th>0</th>\n",
       "      <td>AR002UA1187B9A637D</td>\n",
       "      <td>ARQDOR81187FB3B06C</td>\n",
       "    </tr>\n",
       "    <tr>\n",
       "      <th>1</th>\n",
       "      <td>AR002UA1187B9A637D</td>\n",
       "      <td>AROHMXJ1187B989023</td>\n",
       "    </tr>\n",
       "    <tr>\n",
       "      <th>2</th>\n",
       "      <td>AR002UA1187B9A637D</td>\n",
       "      <td>ARAGWVR1187B9B749B</td>\n",
       "    </tr>\n",
       "    <tr>\n",
       "      <th>3</th>\n",
       "      <td>AR002UA1187B9A637D</td>\n",
       "      <td>AREQVWS1241B9CC0A4</td>\n",
       "    </tr>\n",
       "    <tr>\n",
       "      <th>4</th>\n",
       "      <td>AR002UA1187B9A637D</td>\n",
       "      <td>ARHBE351187FB3B0CD</td>\n",
       "    </tr>\n",
       "    <tr>\n",
       "      <th>5</th>\n",
       "      <td>AR002UA1187B9A637D</td>\n",
       "      <td>AR2EMEJ1187FB3BB2B</td>\n",
       "    </tr>\n",
       "    <tr>\n",
       "      <th>6</th>\n",
       "      <td>AR002UA1187B9A637D</td>\n",
       "      <td>ARIQN6P11C8A416C39</td>\n",
       "    </tr>\n",
       "    <tr>\n",
       "      <th>7</th>\n",
       "      <td>AR002UA1187B9A637D</td>\n",
       "      <td>ARHBUBO11F50C4EBAF</td>\n",
       "    </tr>\n",
       "    <tr>\n",
       "      <th>8</th>\n",
       "      <td>AR002UA1187B9A637D</td>\n",
       "      <td>AROULNY11F50C4EB79</td>\n",
       "    </tr>\n",
       "    <tr>\n",
       "      <th>9</th>\n",
       "      <td>AR002UA1187B9A637D</td>\n",
       "      <td>ARD58Q21187FB36F09</td>\n",
       "    </tr>\n",
       "    <tr>\n",
       "      <th>10</th>\n",
       "      <td>AR002UA1187B9A637D</td>\n",
       "      <td>AR8SQ9J1187FB3BADE</td>\n",
       "    </tr>\n",
       "    <tr>\n",
       "      <th>11</th>\n",
       "      <td>AR002UA1187B9A637D</td>\n",
       "      <td>AR3XDC61187B994315</td>\n",
       "    </tr>\n",
       "    <tr>\n",
       "      <th>12</th>\n",
       "      <td>AR002UA1187B9A637D</td>\n",
       "      <td>ARPI9MD1187B9A1673</td>\n",
       "    </tr>\n",
       "    <tr>\n",
       "      <th>13</th>\n",
       "      <td>AR002UA1187B9A637D</td>\n",
       "      <td>AR4RR251187B98E7AD</td>\n",
       "    </tr>\n",
       "    <tr>\n",
       "      <th>14</th>\n",
       "      <td>AR002UA1187B9A637D</td>\n",
       "      <td>ARU6E671187B99A8D5</td>\n",
       "    </tr>\n",
       "    <tr>\n",
       "      <th>15</th>\n",
       "      <td>AR002UA1187B9A637D</td>\n",
       "      <td>AR9RYS11187FB3E5EA</td>\n",
       "    </tr>\n",
       "    <tr>\n",
       "      <th>16</th>\n",
       "      <td>AR002UA1187B9A637D</td>\n",
       "      <td>ARWG1P91187B99BC74</td>\n",
       "    </tr>\n",
       "    <tr>\n",
       "      <th>17</th>\n",
       "      <td>AR002UA1187B9A637D</td>\n",
       "      <td>ARSHMAZ1187B996530</td>\n",
       "    </tr>\n",
       "    <tr>\n",
       "      <th>18</th>\n",
       "      <td>AR002UA1187B9A637D</td>\n",
       "      <td>AR46LG01187B98DB5D</td>\n",
       "    </tr>\n",
       "    <tr>\n",
       "      <th>19</th>\n",
       "      <td>AR002UA1187B9A637D</td>\n",
       "      <td>AR2HD311187FB4DD25</td>\n",
       "    </tr>\n",
       "    <tr>\n",
       "      <th>20</th>\n",
       "      <td>AR002UA1187B9A637D</td>\n",
       "      <td>ARLJUGP1269FCD2C2A</td>\n",
       "    </tr>\n",
       "    <tr>\n",
       "      <th>21</th>\n",
       "      <td>AR002UA1187B9A637D</td>\n",
       "      <td>ARZ2QE61187B98F239</td>\n",
       "    </tr>\n",
       "    <tr>\n",
       "      <th>22</th>\n",
       "      <td>AR002UA1187B9A637D</td>\n",
       "      <td>ARIYQIU11F50C4EB7F</td>\n",
       "    </tr>\n",
       "    <tr>\n",
       "      <th>23</th>\n",
       "      <td>AR002UA1187B9A637D</td>\n",
       "      <td>ARND2491187B990310</td>\n",
       "    </tr>\n",
       "    <tr>\n",
       "      <th>24</th>\n",
       "      <td>AR002UA1187B9A637D</td>\n",
       "      <td>ARGENWA11F50C4EB93</td>\n",
       "    </tr>\n",
       "    <tr>\n",
       "      <th>25</th>\n",
       "      <td>AR002UA1187B9A637D</td>\n",
       "      <td>ARLWDC31187B9B4D71</td>\n",
       "    </tr>\n",
       "    <tr>\n",
       "      <th>26</th>\n",
       "      <td>AR002UA1187B9A637D</td>\n",
       "      <td>ARMEUN11187B9B6166</td>\n",
       "    </tr>\n",
       "    <tr>\n",
       "      <th>27</th>\n",
       "      <td>AR002UA1187B9A637D</td>\n",
       "      <td>ARWAWGA122988F5771</td>\n",
       "    </tr>\n",
       "    <tr>\n",
       "      <th>28</th>\n",
       "      <td>AR002UA1187B9A637D</td>\n",
       "      <td>ARKOYAZ1187B9A84B5</td>\n",
       "    </tr>\n",
       "    <tr>\n",
       "      <th>29</th>\n",
       "      <td>AR002UA1187B9A637D</td>\n",
       "      <td>ARS9T6I1187FB5C586</td>\n",
       "    </tr>\n",
       "    <tr>\n",
       "      <th>30</th>\n",
       "      <td>AR002UA1187B9A637D</td>\n",
       "      <td>ARYBT401187FB57E31</td>\n",
       "    </tr>\n",
       "    <tr>\n",
       "      <th>31</th>\n",
       "      <td>AR002UA1187B9A637D</td>\n",
       "      <td>ARDHKYF11F4C847DC7</td>\n",
       "    </tr>\n",
       "    <tr>\n",
       "      <th>32</th>\n",
       "      <td>AR002UA1187B9A637D</td>\n",
       "      <td>ARBAFGR11F4C843B4B</td>\n",
       "    </tr>\n",
       "    <tr>\n",
       "      <th>33</th>\n",
       "      <td>AR002UA1187B9A637D</td>\n",
       "      <td>ARUYOAU1187FB3A9F2</td>\n",
       "    </tr>\n",
       "    <tr>\n",
       "      <th>34</th>\n",
       "      <td>AR002UA1187B9A637D</td>\n",
       "      <td>AR44EZU1187B9A0FE5</td>\n",
       "    </tr>\n",
       "    <tr>\n",
       "      <th>35</th>\n",
       "      <td>AR002UA1187B9A637D</td>\n",
       "      <td>ARWJ1BY1187B998F28</td>\n",
       "    </tr>\n",
       "    <tr>\n",
       "      <th>36</th>\n",
       "      <td>AR002UA1187B9A637D</td>\n",
       "      <td>ARHEDAC12086C13365</td>\n",
       "    </tr>\n",
       "    <tr>\n",
       "      <th>37</th>\n",
       "      <td>AR002UA1187B9A637D</td>\n",
       "      <td>ARCOILN1187B99BD98</td>\n",
       "    </tr>\n",
       "    <tr>\n",
       "      <th>38</th>\n",
       "      <td>AR002UA1187B9A637D</td>\n",
       "      <td>ARPLQNP11F50C4EB88</td>\n",
       "    </tr>\n",
       "    <tr>\n",
       "      <th>39</th>\n",
       "      <td>AR002UA1187B9A637D</td>\n",
       "      <td>ARDYVH01187FB3B0CB</td>\n",
       "    </tr>\n",
       "    <tr>\n",
       "      <th>40</th>\n",
       "      <td>AR002UA1187B9A637D</td>\n",
       "      <td>AR62GN71187B9AAD0C</td>\n",
       "    </tr>\n",
       "    <tr>\n",
       "      <th>41</th>\n",
       "      <td>AR002UA1187B9A637D</td>\n",
       "      <td>ARXS70F1187B99C8EF</td>\n",
       "    </tr>\n",
       "    <tr>\n",
       "      <th>42</th>\n",
       "      <td>AR002UA1187B9A637D</td>\n",
       "      <td>ARABZPR1187FB57253</td>\n",
       "    </tr>\n",
       "    <tr>\n",
       "      <th>43</th>\n",
       "      <td>AR002UA1187B9A637D</td>\n",
       "      <td>AREB8J71187FB4D6A3</td>\n",
       "    </tr>\n",
       "    <tr>\n",
       "      <th>44</th>\n",
       "      <td>AR002UA1187B9A637D</td>\n",
       "      <td>AR2RBLN1187B9A724F</td>\n",
       "    </tr>\n",
       "    <tr>\n",
       "      <th>45</th>\n",
       "      <td>AR002UA1187B9A637D</td>\n",
       "      <td>ARNQPW91187B99871F</td>\n",
       "    </tr>\n",
       "    <tr>\n",
       "      <th>46</th>\n",
       "      <td>AR002UA1187B9A637D</td>\n",
       "      <td>ARX4WMJ1187FB56E57</td>\n",
       "    </tr>\n",
       "  </tbody>\n",
       "</table>\n",
       "</div>"
      ],
      "text/plain": [
       "                target             similar\n",
       "0   AR002UA1187B9A637D  ARQDOR81187FB3B06C\n",
       "1   AR002UA1187B9A637D  AROHMXJ1187B989023\n",
       "2   AR002UA1187B9A637D  ARAGWVR1187B9B749B\n",
       "3   AR002UA1187B9A637D  AREQVWS1241B9CC0A4\n",
       "4   AR002UA1187B9A637D  ARHBE351187FB3B0CD\n",
       "5   AR002UA1187B9A637D  AR2EMEJ1187FB3BB2B\n",
       "6   AR002UA1187B9A637D  ARIQN6P11C8A416C39\n",
       "7   AR002UA1187B9A637D  ARHBUBO11F50C4EBAF\n",
       "8   AR002UA1187B9A637D  AROULNY11F50C4EB79\n",
       "9   AR002UA1187B9A637D  ARD58Q21187FB36F09\n",
       "10  AR002UA1187B9A637D  AR8SQ9J1187FB3BADE\n",
       "11  AR002UA1187B9A637D  AR3XDC61187B994315\n",
       "12  AR002UA1187B9A637D  ARPI9MD1187B9A1673\n",
       "13  AR002UA1187B9A637D  AR4RR251187B98E7AD\n",
       "14  AR002UA1187B9A637D  ARU6E671187B99A8D5\n",
       "15  AR002UA1187B9A637D  AR9RYS11187FB3E5EA\n",
       "16  AR002UA1187B9A637D  ARWG1P91187B99BC74\n",
       "17  AR002UA1187B9A637D  ARSHMAZ1187B996530\n",
       "18  AR002UA1187B9A637D  AR46LG01187B98DB5D\n",
       "19  AR002UA1187B9A637D  AR2HD311187FB4DD25\n",
       "20  AR002UA1187B9A637D  ARLJUGP1269FCD2C2A\n",
       "21  AR002UA1187B9A637D  ARZ2QE61187B98F239\n",
       "22  AR002UA1187B9A637D  ARIYQIU11F50C4EB7F\n",
       "23  AR002UA1187B9A637D  ARND2491187B990310\n",
       "24  AR002UA1187B9A637D  ARGENWA11F50C4EB93\n",
       "25  AR002UA1187B9A637D  ARLWDC31187B9B4D71\n",
       "26  AR002UA1187B9A637D  ARMEUN11187B9B6166\n",
       "27  AR002UA1187B9A637D  ARWAWGA122988F5771\n",
       "28  AR002UA1187B9A637D  ARKOYAZ1187B9A84B5\n",
       "29  AR002UA1187B9A637D  ARS9T6I1187FB5C586\n",
       "30  AR002UA1187B9A637D  ARYBT401187FB57E31\n",
       "31  AR002UA1187B9A637D  ARDHKYF11F4C847DC7\n",
       "32  AR002UA1187B9A637D  ARBAFGR11F4C843B4B\n",
       "33  AR002UA1187B9A637D  ARUYOAU1187FB3A9F2\n",
       "34  AR002UA1187B9A637D  AR44EZU1187B9A0FE5\n",
       "35  AR002UA1187B9A637D  ARWJ1BY1187B998F28\n",
       "36  AR002UA1187B9A637D  ARHEDAC12086C13365\n",
       "37  AR002UA1187B9A637D  ARCOILN1187B99BD98\n",
       "38  AR002UA1187B9A637D  ARPLQNP11F50C4EB88\n",
       "39  AR002UA1187B9A637D  ARDYVH01187FB3B0CB\n",
       "40  AR002UA1187B9A637D  AR62GN71187B9AAD0C\n",
       "41  AR002UA1187B9A637D  ARXS70F1187B99C8EF\n",
       "42  AR002UA1187B9A637D  ARABZPR1187FB57253\n",
       "43  AR002UA1187B9A637D  AREB8J71187FB4D6A3\n",
       "44  AR002UA1187B9A637D  AR2RBLN1187B9A724F\n",
       "45  AR002UA1187B9A637D  ARNQPW91187B99871F\n",
       "46  AR002UA1187B9A637D  ARX4WMJ1187FB56E57"
      ]
     },
     "execution_count": 65,
     "metadata": {},
     "output_type": "execute_result"
    }
   ],
   "source": [
    "similarity.loc[similarity['target'] == 'AR002UA1187B9A637D']"
   ]
  },
  {
   "cell_type": "markdown",
   "metadata": {},
   "source": [
    "## mxm_dataset"
   ]
  },
  {
   "cell_type": "markdown",
   "metadata": {},
   "source": [
    "The mxm_dataset has two tables: words and lyrics. \n",
    "\n",
    "The words table has a single column: word\n",
    "\n",
    "The lyrics table has five columns:\n",
    "track_id: MSD song id\n",
    "mxm_tid: musiXmatch track id\n",
    "word: one of the words in the table words\n",
    "count: the word count for that track\n",
    "is_test: tells you if a track is in the test set(1) or not(0)"
   ]
  },
  {
   "cell_type": "code",
   "execution_count": 66,
   "metadata": {
    "collapsed": false
   },
   "outputs": [
    {
     "data": {
      "text/plain": [
       "[('table', 'words', 'words', 2, 'CREATE TABLE words (word TEXT PRIMARY KEY)'),\n",
       " ('table',\n",
       "  'lyrics',\n",
       "  'lyrics',\n",
       "  4,\n",
       "  'CREATE TABLE lyrics (track_id, mxm_tid INT, word TEXT, count INT, is_test INT, FOREIGN KEY(word) REFERENCES words(word))')]"
      ]
     },
     "execution_count": 66,
     "metadata": {},
     "output_type": "execute_result"
    }
   ],
   "source": [
    "res = conn_lyrics.execute(\"Select * FROM sqlite_master where type = 'table'\")\n",
    "res.fetchall()"
   ]
  },
  {
   "cell_type": "markdown",
   "metadata": {},
   "source": [
    "There are 5000 unique words in the words table. We look at the first 5."
   ]
  },
  {
   "cell_type": "code",
   "execution_count": 67,
   "metadata": {
    "collapsed": false
   },
   "outputs": [],
   "source": [
    "words = pd.read_sql('SELECT * FROM words', con=conn_lyrics)"
   ]
  },
  {
   "cell_type": "code",
   "execution_count": 68,
   "metadata": {
    "collapsed": false,
    "scrolled": true
   },
   "outputs": [
    {
     "data": {
      "text/plain": [
       "(5000,   word\n",
       " 0    i\n",
       " 1  the\n",
       " 2  you\n",
       " 3   to\n",
       " 4  and)"
      ]
     },
     "execution_count": 68,
     "metadata": {},
     "output_type": "execute_result"
    }
   ],
   "source": [
    "len(words), words.head(5)"
   ]
  },
  {
   "cell_type": "markdown",
   "metadata": {},
   "source": [
    "The lyrics table contains the most data of all the tables we've looked at. There are 19,045,332 rows. This is because each row contains two track id's, a word, a count of the number of times the word appears, and a field indicating whether its part of the train or test set. "
   ]
  },
  {
   "cell_type": "code",
   "execution_count": 69,
   "metadata": {
    "collapsed": false
   },
   "outputs": [],
   "source": [
    "lyrics = pd.read_sql(\"SELECT * FROM lyrics\", con=conn_lyrics)"
   ]
  },
  {
   "cell_type": "code",
   "execution_count": 70,
   "metadata": {
    "collapsed": false
   },
   "outputs": [
    {
     "data": {
      "text/plain": [
       "19045332"
      ]
     },
     "execution_count": 70,
     "metadata": {},
     "output_type": "execute_result"
    }
   ],
   "source": [
    "len(lyrics)"
   ]
  },
  {
   "cell_type": "code",
   "execution_count": 71,
   "metadata": {
    "collapsed": false
   },
   "outputs": [
    {
     "data": {
      "text/html": [
       "<div>\n",
       "<table border=\"1\" class=\"dataframe\">\n",
       "  <thead>\n",
       "    <tr style=\"text-align: right;\">\n",
       "      <th></th>\n",
       "      <th>track_id</th>\n",
       "      <th>mxm_tid</th>\n",
       "      <th>word</th>\n",
       "      <th>count</th>\n",
       "      <th>is_test</th>\n",
       "    </tr>\n",
       "  </thead>\n",
       "  <tbody>\n",
       "    <tr>\n",
       "      <th>0</th>\n",
       "      <td>TRAAAAV128F421A322</td>\n",
       "      <td>4623710</td>\n",
       "      <td>i</td>\n",
       "      <td>6</td>\n",
       "      <td>0</td>\n",
       "    </tr>\n",
       "    <tr>\n",
       "      <th>1</th>\n",
       "      <td>TRAAAAV128F421A322</td>\n",
       "      <td>4623710</td>\n",
       "      <td>the</td>\n",
       "      <td>4</td>\n",
       "      <td>0</td>\n",
       "    </tr>\n",
       "    <tr>\n",
       "      <th>2</th>\n",
       "      <td>TRAAAAV128F421A322</td>\n",
       "      <td>4623710</td>\n",
       "      <td>you</td>\n",
       "      <td>2</td>\n",
       "      <td>0</td>\n",
       "    </tr>\n",
       "    <tr>\n",
       "      <th>3</th>\n",
       "      <td>TRAAAAV128F421A322</td>\n",
       "      <td>4623710</td>\n",
       "      <td>to</td>\n",
       "      <td>2</td>\n",
       "      <td>0</td>\n",
       "    </tr>\n",
       "    <tr>\n",
       "      <th>4</th>\n",
       "      <td>TRAAAAV128F421A322</td>\n",
       "      <td>4623710</td>\n",
       "      <td>and</td>\n",
       "      <td>5</td>\n",
       "      <td>0</td>\n",
       "    </tr>\n",
       "  </tbody>\n",
       "</table>\n",
       "</div>"
      ],
      "text/plain": [
       "             track_id  mxm_tid word  count  is_test\n",
       "0  TRAAAAV128F421A322  4623710    i      6        0\n",
       "1  TRAAAAV128F421A322  4623710  the      4        0\n",
       "2  TRAAAAV128F421A322  4623710  you      2        0\n",
       "3  TRAAAAV128F421A322  4623710   to      2        0\n",
       "4  TRAAAAV128F421A322  4623710  and      5        0"
      ]
     },
     "execution_count": 71,
     "metadata": {},
     "output_type": "execute_result"
    }
   ],
   "source": [
    "lyrics.head(5)"
   ]
  },
  {
   "cell_type": "code",
   "execution_count": 72,
   "metadata": {
    "collapsed": false
   },
   "outputs": [
    {
     "data": {
      "text/html": [
       "<div>\n",
       "<table border=\"1\" class=\"dataframe\">\n",
       "  <thead>\n",
       "    <tr style=\"text-align: right;\">\n",
       "      <th></th>\n",
       "      <th>track_id</th>\n",
       "      <th>mxm_tid</th>\n",
       "      <th>word</th>\n",
       "      <th>count</th>\n",
       "      <th>is_test</th>\n",
       "    </tr>\n",
       "  </thead>\n",
       "  <tbody>\n",
       "    <tr>\n",
       "      <th>0</th>\n",
       "      <td>TRAAAAV128F421A322</td>\n",
       "      <td>4623710</td>\n",
       "      <td>i</td>\n",
       "      <td>6</td>\n",
       "      <td>0</td>\n",
       "    </tr>\n",
       "    <tr>\n",
       "      <th>1</th>\n",
       "      <td>TRAAAAV128F421A322</td>\n",
       "      <td>4623710</td>\n",
       "      <td>the</td>\n",
       "      <td>4</td>\n",
       "      <td>0</td>\n",
       "    </tr>\n",
       "    <tr>\n",
       "      <th>2</th>\n",
       "      <td>TRAAAAV128F421A322</td>\n",
       "      <td>4623710</td>\n",
       "      <td>you</td>\n",
       "      <td>2</td>\n",
       "      <td>0</td>\n",
       "    </tr>\n",
       "    <tr>\n",
       "      <th>3</th>\n",
       "      <td>TRAAAAV128F421A322</td>\n",
       "      <td>4623710</td>\n",
       "      <td>to</td>\n",
       "      <td>2</td>\n",
       "      <td>0</td>\n",
       "    </tr>\n",
       "    <tr>\n",
       "      <th>4</th>\n",
       "      <td>TRAAAAV128F421A322</td>\n",
       "      <td>4623710</td>\n",
       "      <td>and</td>\n",
       "      <td>5</td>\n",
       "      <td>0</td>\n",
       "    </tr>\n",
       "    <tr>\n",
       "      <th>5</th>\n",
       "      <td>TRAAAAV128F421A322</td>\n",
       "      <td>4623710</td>\n",
       "      <td>a</td>\n",
       "      <td>3</td>\n",
       "      <td>0</td>\n",
       "    </tr>\n",
       "    <tr>\n",
       "      <th>6</th>\n",
       "      <td>TRAAAAV128F421A322</td>\n",
       "      <td>4623710</td>\n",
       "      <td>me</td>\n",
       "      <td>1</td>\n",
       "      <td>0</td>\n",
       "    </tr>\n",
       "    <tr>\n",
       "      <th>7</th>\n",
       "      <td>TRAAAAV128F421A322</td>\n",
       "      <td>4623710</td>\n",
       "      <td>it</td>\n",
       "      <td>1</td>\n",
       "      <td>0</td>\n",
       "    </tr>\n",
       "    <tr>\n",
       "      <th>8</th>\n",
       "      <td>TRAAAAV128F421A322</td>\n",
       "      <td>4623710</td>\n",
       "      <td>my</td>\n",
       "      <td>1</td>\n",
       "      <td>0</td>\n",
       "    </tr>\n",
       "    <tr>\n",
       "      <th>9</th>\n",
       "      <td>TRAAAAV128F421A322</td>\n",
       "      <td>4623710</td>\n",
       "      <td>is</td>\n",
       "      <td>2</td>\n",
       "      <td>0</td>\n",
       "    </tr>\n",
       "    <tr>\n",
       "      <th>10</th>\n",
       "      <td>TRAAAAV128F421A322</td>\n",
       "      <td>4623710</td>\n",
       "      <td>of</td>\n",
       "      <td>3</td>\n",
       "      <td>0</td>\n",
       "    </tr>\n",
       "    <tr>\n",
       "      <th>11</th>\n",
       "      <td>TRAAAAV128F421A322</td>\n",
       "      <td>4623710</td>\n",
       "      <td>your</td>\n",
       "      <td>1</td>\n",
       "      <td>0</td>\n",
       "    </tr>\n",
       "    <tr>\n",
       "      <th>12</th>\n",
       "      <td>TRAAAAV128F421A322</td>\n",
       "      <td>4623710</td>\n",
       "      <td>that</td>\n",
       "      <td>1</td>\n",
       "      <td>0</td>\n",
       "    </tr>\n",
       "    <tr>\n",
       "      <th>13</th>\n",
       "      <td>TRAAAAV128F421A322</td>\n",
       "      <td>4623710</td>\n",
       "      <td>are</td>\n",
       "      <td>2</td>\n",
       "      <td>0</td>\n",
       "    </tr>\n",
       "    <tr>\n",
       "      <th>14</th>\n",
       "      <td>TRAAAAV128F421A322</td>\n",
       "      <td>4623710</td>\n",
       "      <td>we</td>\n",
       "      <td>2</td>\n",
       "      <td>0</td>\n",
       "    </tr>\n",
       "    <tr>\n",
       "      <th>15</th>\n",
       "      <td>TRAAAAV128F421A322</td>\n",
       "      <td>4623710</td>\n",
       "      <td>am</td>\n",
       "      <td>2</td>\n",
       "      <td>0</td>\n",
       "    </tr>\n",
       "    <tr>\n",
       "      <th>16</th>\n",
       "      <td>TRAAAAV128F421A322</td>\n",
       "      <td>4623710</td>\n",
       "      <td>will</td>\n",
       "      <td>2</td>\n",
       "      <td>0</td>\n",
       "    </tr>\n",
       "    <tr>\n",
       "      <th>17</th>\n",
       "      <td>TRAAAAV128F421A322</td>\n",
       "      <td>4623710</td>\n",
       "      <td>for</td>\n",
       "      <td>4</td>\n",
       "      <td>0</td>\n",
       "    </tr>\n",
       "    <tr>\n",
       "      <th>18</th>\n",
       "      <td>TRAAAAV128F421A322</td>\n",
       "      <td>4623710</td>\n",
       "      <td>be</td>\n",
       "      <td>1</td>\n",
       "      <td>0</td>\n",
       "    </tr>\n",
       "    <tr>\n",
       "      <th>19</th>\n",
       "      <td>TRAAAAV128F421A322</td>\n",
       "      <td>4623710</td>\n",
       "      <td>have</td>\n",
       "      <td>2</td>\n",
       "      <td>0</td>\n",
       "    </tr>\n",
       "    <tr>\n",
       "      <th>20</th>\n",
       "      <td>TRAAAAV128F421A322</td>\n",
       "      <td>4623710</td>\n",
       "      <td>so</td>\n",
       "      <td>1</td>\n",
       "      <td>0</td>\n",
       "    </tr>\n",
       "    <tr>\n",
       "      <th>21</th>\n",
       "      <td>TRAAAAV128F421A322</td>\n",
       "      <td>4623710</td>\n",
       "      <td>this</td>\n",
       "      <td>1</td>\n",
       "      <td>0</td>\n",
       "    </tr>\n",
       "    <tr>\n",
       "      <th>22</th>\n",
       "      <td>TRAAAAV128F421A322</td>\n",
       "      <td>4623710</td>\n",
       "      <td>like</td>\n",
       "      <td>2</td>\n",
       "      <td>0</td>\n",
       "    </tr>\n",
       "    <tr>\n",
       "      <th>23</th>\n",
       "      <td>TRAAAAV128F421A322</td>\n",
       "      <td>4623710</td>\n",
       "      <td>de</td>\n",
       "      <td>1</td>\n",
       "      <td>0</td>\n",
       "    </tr>\n",
       "    <tr>\n",
       "      <th>24</th>\n",
       "      <td>TRAAAAV128F421A322</td>\n",
       "      <td>4623710</td>\n",
       "      <td>up</td>\n",
       "      <td>1</td>\n",
       "      <td>0</td>\n",
       "    </tr>\n",
       "    <tr>\n",
       "      <th>25</th>\n",
       "      <td>TRAAAAV128F421A322</td>\n",
       "      <td>4623710</td>\n",
       "      <td>was</td>\n",
       "      <td>2</td>\n",
       "      <td>0</td>\n",
       "    </tr>\n",
       "    <tr>\n",
       "      <th>26</th>\n",
       "      <td>TRAAAAV128F421A322</td>\n",
       "      <td>4623710</td>\n",
       "      <td>if</td>\n",
       "      <td>1</td>\n",
       "      <td>0</td>\n",
       "    </tr>\n",
       "    <tr>\n",
       "      <th>27</th>\n",
       "      <td>TRAAAAV128F421A322</td>\n",
       "      <td>4623710</td>\n",
       "      <td>got</td>\n",
       "      <td>1</td>\n",
       "      <td>0</td>\n",
       "    </tr>\n",
       "    <tr>\n",
       "      <th>28</th>\n",
       "      <td>TRAAAAV128F421A322</td>\n",
       "      <td>4623710</td>\n",
       "      <td>would</td>\n",
       "      <td>1</td>\n",
       "      <td>0</td>\n",
       "    </tr>\n",
       "    <tr>\n",
       "      <th>29</th>\n",
       "      <td>TRAAAAV128F421A322</td>\n",
       "      <td>4623710</td>\n",
       "      <td>been</td>\n",
       "      <td>1</td>\n",
       "      <td>0</td>\n",
       "    </tr>\n",
       "    <tr>\n",
       "      <th>...</th>\n",
       "      <td>...</td>\n",
       "      <td>...</td>\n",
       "      <td>...</td>\n",
       "      <td>...</td>\n",
       "      <td>...</td>\n",
       "    </tr>\n",
       "    <tr>\n",
       "      <th>38</th>\n",
       "      <td>TRAAAAV128F421A322</td>\n",
       "      <td>4623710</td>\n",
       "      <td>damn</td>\n",
       "      <td>1</td>\n",
       "      <td>0</td>\n",
       "    </tr>\n",
       "    <tr>\n",
       "      <th>39</th>\n",
       "      <td>TRAAAAV128F421A322</td>\n",
       "      <td>4623710</td>\n",
       "      <td>worth</td>\n",
       "      <td>1</td>\n",
       "      <td>0</td>\n",
       "    </tr>\n",
       "    <tr>\n",
       "      <th>40</th>\n",
       "      <td>TRAAAAV128F421A322</td>\n",
       "      <td>4623710</td>\n",
       "      <td>flesh</td>\n",
       "      <td>1</td>\n",
       "      <td>0</td>\n",
       "    </tr>\n",
       "    <tr>\n",
       "      <th>41</th>\n",
       "      <td>TRAAAAV128F421A322</td>\n",
       "      <td>4623710</td>\n",
       "      <td>grace</td>\n",
       "      <td>1</td>\n",
       "      <td>0</td>\n",
       "    </tr>\n",
       "    <tr>\n",
       "      <th>42</th>\n",
       "      <td>TRAAAAV128F421A322</td>\n",
       "      <td>4623710</td>\n",
       "      <td>poor</td>\n",
       "      <td>2</td>\n",
       "      <td>0</td>\n",
       "    </tr>\n",
       "    <tr>\n",
       "      <th>43</th>\n",
       "      <td>TRAAAAV128F421A322</td>\n",
       "      <td>4623710</td>\n",
       "      <td>somehow</td>\n",
       "      <td>1</td>\n",
       "      <td>0</td>\n",
       "    </tr>\n",
       "    <tr>\n",
       "      <th>44</th>\n",
       "      <td>TRAAAAV128F421A322</td>\n",
       "      <td>4623710</td>\n",
       "      <td>ignor</td>\n",
       "      <td>1</td>\n",
       "      <td>0</td>\n",
       "    </tr>\n",
       "    <tr>\n",
       "      <th>45</th>\n",
       "      <td>TRAAAAV128F421A322</td>\n",
       "      <td>4623710</td>\n",
       "      <td>passion</td>\n",
       "      <td>1</td>\n",
       "      <td>0</td>\n",
       "    </tr>\n",
       "    <tr>\n",
       "      <th>46</th>\n",
       "      <td>TRAAAAV128F421A322</td>\n",
       "      <td>4623710</td>\n",
       "      <td>tide</td>\n",
       "      <td>1</td>\n",
       "      <td>0</td>\n",
       "    </tr>\n",
       "    <tr>\n",
       "      <th>47</th>\n",
       "      <td>TRAAAAV128F421A322</td>\n",
       "      <td>4623710</td>\n",
       "      <td>season</td>\n",
       "      <td>1</td>\n",
       "      <td>0</td>\n",
       "    </tr>\n",
       "    <tr>\n",
       "      <th>48</th>\n",
       "      <td>TRAAAAV128F421A322</td>\n",
       "      <td>4623710</td>\n",
       "      <td>seed</td>\n",
       "      <td>1</td>\n",
       "      <td>0</td>\n",
       "    </tr>\n",
       "    <tr>\n",
       "      <th>49</th>\n",
       "      <td>TRAAAAV128F421A322</td>\n",
       "      <td>4623710</td>\n",
       "      <td>resist</td>\n",
       "      <td>1</td>\n",
       "      <td>0</td>\n",
       "    </tr>\n",
       "    <tr>\n",
       "      <th>50</th>\n",
       "      <td>TRAAAAV128F421A322</td>\n",
       "      <td>4623710</td>\n",
       "      <td>order</td>\n",
       "      <td>2</td>\n",
       "      <td>0</td>\n",
       "    </tr>\n",
       "    <tr>\n",
       "      <th>51</th>\n",
       "      <td>TRAAAAV128F421A322</td>\n",
       "      <td>4623710</td>\n",
       "      <td>piti</td>\n",
       "      <td>1</td>\n",
       "      <td>0</td>\n",
       "    </tr>\n",
       "    <tr>\n",
       "      <th>52</th>\n",
       "      <td>TRAAAAV128F421A322</td>\n",
       "      <td>4623710</td>\n",
       "      <td>fashion</td>\n",
       "      <td>1</td>\n",
       "      <td>0</td>\n",
       "    </tr>\n",
       "    <tr>\n",
       "      <th>53</th>\n",
       "      <td>TRAAAAV128F421A322</td>\n",
       "      <td>4623710</td>\n",
       "      <td>grant</td>\n",
       "      <td>1</td>\n",
       "      <td>0</td>\n",
       "    </tr>\n",
       "    <tr>\n",
       "      <th>54</th>\n",
       "      <td>TRAAAAV128F421A322</td>\n",
       "      <td>4623710</td>\n",
       "      <td>captur</td>\n",
       "      <td>2</td>\n",
       "      <td>0</td>\n",
       "    </tr>\n",
       "    <tr>\n",
       "      <th>55</th>\n",
       "      <td>TRAAAAV128F421A322</td>\n",
       "      <td>4623710</td>\n",
       "      <td>ici</td>\n",
       "      <td>1</td>\n",
       "      <td>0</td>\n",
       "    </tr>\n",
       "    <tr>\n",
       "      <th>56</th>\n",
       "      <td>TRAAAAV128F421A322</td>\n",
       "      <td>4623710</td>\n",
       "      <td>soil</td>\n",
       "      <td>1</td>\n",
       "      <td>0</td>\n",
       "    </tr>\n",
       "    <tr>\n",
       "      <th>57</th>\n",
       "      <td>TRAAAAV128F421A322</td>\n",
       "      <td>4623710</td>\n",
       "      <td>patienc</td>\n",
       "      <td>1</td>\n",
       "      <td>0</td>\n",
       "    </tr>\n",
       "    <tr>\n",
       "      <th>58</th>\n",
       "      <td>TRAAAAV128F421A322</td>\n",
       "      <td>4623710</td>\n",
       "      <td>social</td>\n",
       "      <td>2</td>\n",
       "      <td>0</td>\n",
       "    </tr>\n",
       "    <tr>\n",
       "      <th>59</th>\n",
       "      <td>TRAAAAV128F421A322</td>\n",
       "      <td>4623710</td>\n",
       "      <td>highest</td>\n",
       "      <td>2</td>\n",
       "      <td>0</td>\n",
       "    </tr>\n",
       "    <tr>\n",
       "      <th>60</th>\n",
       "      <td>TRAAAAV128F421A322</td>\n",
       "      <td>4623710</td>\n",
       "      <td>slice</td>\n",
       "      <td>1</td>\n",
       "      <td>0</td>\n",
       "    </tr>\n",
       "    <tr>\n",
       "      <th>61</th>\n",
       "      <td>TRAAAAV128F421A322</td>\n",
       "      <td>4623710</td>\n",
       "      <td>leaf</td>\n",
       "      <td>1</td>\n",
       "      <td>0</td>\n",
       "    </tr>\n",
       "    <tr>\n",
       "      <th>62</th>\n",
       "      <td>TRAAAAV128F421A322</td>\n",
       "      <td>4623710</td>\n",
       "      <td>lifeless</td>\n",
       "      <td>1</td>\n",
       "      <td>0</td>\n",
       "    </tr>\n",
       "    <tr>\n",
       "      <th>63</th>\n",
       "      <td>TRAAAAV128F421A322</td>\n",
       "      <td>4623710</td>\n",
       "      <td>arrang</td>\n",
       "      <td>1</td>\n",
       "      <td>0</td>\n",
       "    </tr>\n",
       "    <tr>\n",
       "      <th>64</th>\n",
       "      <td>TRAAAAV128F421A322</td>\n",
       "      <td>4623710</td>\n",
       "      <td>wilder</td>\n",
       "      <td>1</td>\n",
       "      <td>0</td>\n",
       "    </tr>\n",
       "    <tr>\n",
       "      <th>65</th>\n",
       "      <td>TRAAAAV128F421A322</td>\n",
       "      <td>4623710</td>\n",
       "      <td>shark</td>\n",
       "      <td>1</td>\n",
       "      <td>0</td>\n",
       "    </tr>\n",
       "    <tr>\n",
       "      <th>66</th>\n",
       "      <td>TRAAAAV128F421A322</td>\n",
       "      <td>4623710</td>\n",
       "      <td>devast</td>\n",
       "      <td>1</td>\n",
       "      <td>0</td>\n",
       "    </tr>\n",
       "    <tr>\n",
       "      <th>67</th>\n",
       "      <td>TRAAAAV128F421A322</td>\n",
       "      <td>4623710</td>\n",
       "      <td>element</td>\n",
       "      <td>1</td>\n",
       "      <td>0</td>\n",
       "    </tr>\n",
       "  </tbody>\n",
       "</table>\n",
       "<p>68 rows × 5 columns</p>\n",
       "</div>"
      ],
      "text/plain": [
       "              track_id  mxm_tid      word  count  is_test\n",
       "0   TRAAAAV128F421A322  4623710         i      6        0\n",
       "1   TRAAAAV128F421A322  4623710       the      4        0\n",
       "2   TRAAAAV128F421A322  4623710       you      2        0\n",
       "3   TRAAAAV128F421A322  4623710        to      2        0\n",
       "4   TRAAAAV128F421A322  4623710       and      5        0\n",
       "5   TRAAAAV128F421A322  4623710         a      3        0\n",
       "6   TRAAAAV128F421A322  4623710        me      1        0\n",
       "7   TRAAAAV128F421A322  4623710        it      1        0\n",
       "8   TRAAAAV128F421A322  4623710        my      1        0\n",
       "9   TRAAAAV128F421A322  4623710        is      2        0\n",
       "10  TRAAAAV128F421A322  4623710        of      3        0\n",
       "11  TRAAAAV128F421A322  4623710      your      1        0\n",
       "12  TRAAAAV128F421A322  4623710      that      1        0\n",
       "13  TRAAAAV128F421A322  4623710       are      2        0\n",
       "14  TRAAAAV128F421A322  4623710        we      2        0\n",
       "15  TRAAAAV128F421A322  4623710        am      2        0\n",
       "16  TRAAAAV128F421A322  4623710      will      2        0\n",
       "17  TRAAAAV128F421A322  4623710       for      4        0\n",
       "18  TRAAAAV128F421A322  4623710        be      1        0\n",
       "19  TRAAAAV128F421A322  4623710      have      2        0\n",
       "20  TRAAAAV128F421A322  4623710        so      1        0\n",
       "21  TRAAAAV128F421A322  4623710      this      1        0\n",
       "22  TRAAAAV128F421A322  4623710      like      2        0\n",
       "23  TRAAAAV128F421A322  4623710        de      1        0\n",
       "24  TRAAAAV128F421A322  4623710        up      1        0\n",
       "25  TRAAAAV128F421A322  4623710       was      2        0\n",
       "26  TRAAAAV128F421A322  4623710        if      1        0\n",
       "27  TRAAAAV128F421A322  4623710       got      1        0\n",
       "28  TRAAAAV128F421A322  4623710     would      1        0\n",
       "29  TRAAAAV128F421A322  4623710      been      1        0\n",
       "..                 ...      ...       ...    ...      ...\n",
       "38  TRAAAAV128F421A322  4623710      damn      1        0\n",
       "39  TRAAAAV128F421A322  4623710     worth      1        0\n",
       "40  TRAAAAV128F421A322  4623710     flesh      1        0\n",
       "41  TRAAAAV128F421A322  4623710     grace      1        0\n",
       "42  TRAAAAV128F421A322  4623710      poor      2        0\n",
       "43  TRAAAAV128F421A322  4623710   somehow      1        0\n",
       "44  TRAAAAV128F421A322  4623710     ignor      1        0\n",
       "45  TRAAAAV128F421A322  4623710   passion      1        0\n",
       "46  TRAAAAV128F421A322  4623710      tide      1        0\n",
       "47  TRAAAAV128F421A322  4623710    season      1        0\n",
       "48  TRAAAAV128F421A322  4623710      seed      1        0\n",
       "49  TRAAAAV128F421A322  4623710    resist      1        0\n",
       "50  TRAAAAV128F421A322  4623710     order      2        0\n",
       "51  TRAAAAV128F421A322  4623710      piti      1        0\n",
       "52  TRAAAAV128F421A322  4623710   fashion      1        0\n",
       "53  TRAAAAV128F421A322  4623710     grant      1        0\n",
       "54  TRAAAAV128F421A322  4623710    captur      2        0\n",
       "55  TRAAAAV128F421A322  4623710       ici      1        0\n",
       "56  TRAAAAV128F421A322  4623710      soil      1        0\n",
       "57  TRAAAAV128F421A322  4623710   patienc      1        0\n",
       "58  TRAAAAV128F421A322  4623710    social      2        0\n",
       "59  TRAAAAV128F421A322  4623710   highest      2        0\n",
       "60  TRAAAAV128F421A322  4623710     slice      1        0\n",
       "61  TRAAAAV128F421A322  4623710      leaf      1        0\n",
       "62  TRAAAAV128F421A322  4623710  lifeless      1        0\n",
       "63  TRAAAAV128F421A322  4623710    arrang      1        0\n",
       "64  TRAAAAV128F421A322  4623710    wilder      1        0\n",
       "65  TRAAAAV128F421A322  4623710     shark      1        0\n",
       "66  TRAAAAV128F421A322  4623710    devast      1        0\n",
       "67  TRAAAAV128F421A322  4623710   element      1        0\n",
       "\n",
       "[68 rows x 5 columns]"
      ]
     },
     "execution_count": 72,
     "metadata": {},
     "output_type": "execute_result"
    }
   ],
   "source": [
    "lyrics.loc[lyrics['track_id'] == 'TRAAAAV128F421A322']"
   ]
  },
  {
   "cell_type": "markdown",
   "metadata": {},
   "source": [
    "Last, we close our database connections. "
   ]
  },
  {
   "cell_type": "code",
   "execution_count": 73,
   "metadata": {
    "collapsed": false
   },
   "outputs": [],
   "source": [
    "conn_tracks.close()\n",
    "conn_terms.close()\n",
    "conn_similarity.close()\n",
    "conn_lyrics.close()"
   ]
  },
  {
   "cell_type": "markdown",
   "metadata": {},
   "source": [
    "## Next Steps\n",
    "\n",
    "The next step would be to integrate this data with the data we already have.\n"
   ]
  }
 ],
 "metadata": {
  "kernelspec": {
   "display_name": "Python 3",
   "language": "python",
   "name": "python3"
  },
  "language_info": {
   "codemirror_mode": {
    "name": "ipython",
    "version": 3
   },
   "file_extension": ".py",
   "mimetype": "text/x-python",
   "name": "python",
   "nbconvert_exporter": "python",
   "pygments_lexer": "ipython3",
   "version": "3.5.1"
  }
 },
 "nbformat": 4,
 "nbformat_minor": 0
}
