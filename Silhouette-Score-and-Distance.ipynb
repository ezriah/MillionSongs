{
 "cells": [
  {
   "cell_type": "markdown",
   "metadata": {},
   "source": [
    "# Silhouette Score and Distance"
   ]
  },
  {
   "cell_type": "markdown",
   "metadata": {
    "collapsed": true
   },
   "source": [
    "## Create well clustered data"
   ]
  },
  {
   "cell_type": "code",
   "execution_count": 33,
   "metadata": {
    "collapsed": true
   },
   "outputs": [],
   "source": [
    "import numpy as np\n",
    "import matplotlib.pyplot as plt\n",
    "from sklearn.cluster import KMeans\n",
    "from sklearn.metrics import silhouette_score\n",
    "from sklearn.metrics import silhouette_samples\n",
    "import random as rnd"
   ]
  },
  {
   "cell_type": "code",
   "execution_count": 34,
   "metadata": {
    "collapsed": false
   },
   "outputs": [
    {
     "data": {
      "text/plain": [
       "array([[ 1,  2],\n",
       "       [ 3,  1],\n",
       "       [ 3,  4],\n",
       "       [20, 19],\n",
       "       [21, 18],\n",
       "       [22, 24]])"
      ]
     },
     "execution_count": 34,
     "metadata": {},
     "output_type": "execute_result"
    }
   ],
   "source": [
    "x_1 = [1,3,3,20,21,22]\n",
    "x_2 = [2,1,4,19,18,24]\n",
    "X = []\n",
    "for num in range(0,6):\n",
    "    X.append([x_1[num], x_2[num]] )\n",
    "X = np.asarray(X)\n",
    "X"
   ]
  },
  {
   "cell_type": "code",
   "execution_count": 35,
   "metadata": {
    "collapsed": false
   },
   "outputs": [
    {
     "data": {
      "image/png": "[encoded data removed]",
      "text/plain": [
       "<matplotlib.figure.Figure at 0x27ab5800908>"
      ]
     },
     "metadata": {},
     "output_type": "display_data"
    }
   ],
   "source": [
    "%matplotlib inline  \n",
    "plt.scatter(x_1,x_2)\n",
    "plt.show()"
   ]
  },
  {
   "cell_type": "code",
   "execution_count": 36,
   "metadata": {
    "collapsed": false
   },
   "outputs": [
    {
     "data": {
      "text/plain": [
       "array([[  1.37436854,  27.13136766],\n",
       "       [  1.49071198,  26.41548367],\n",
       "       [  1.79505494,  24.30592063],\n",
       "       [ 24.28762831,   1.66666667],\n",
       "       [ 24.36983564,   2.33333333],\n",
       "       [ 29.26127513,   3.80058475]])"
      ]
     },
     "execution_count": 36,
     "metadata": {},
     "output_type": "execute_result"
    }
   ],
   "source": [
    "km = KMeans(n_clusters=2, init='k-means++', random_state=10)\n",
    "cluster_labels = km.fit_predict(X)\n",
    "cluster_distance = km.fit_transform(X)\n",
    "cluster_distance"
   ]
  },
  {
   "cell_type": "markdown",
   "metadata": {},
   "source": [
    "This uses the original data to compute the average silhouette score"
   ]
  },
  {
   "cell_type": "code",
   "execution_count": 37,
   "metadata": {
    "collapsed": false,
    "scrolled": true
   },
   "outputs": [
    {
     "data": {
      "text/plain": [
       "(0.86646468774145324,\n",
       " array([ 0.90681291,  0.90102018,  0.88033829,  0.86014402,  0.84632062,\n",
       "         0.8041521 ]))"
      ]
     },
     "execution_count": 37,
     "metadata": {},
     "output_type": "execute_result"
    }
   ],
   "source": [
    "sil_avg = silhouette_score(X, cluster_labels)\n",
    "sil_samples = silhouette_samples(X, cluster_labels)\n",
    "sil_avg,sil_samples"
   ]
  },
  {
   "cell_type": "markdown",
   "metadata": {},
   "source": [
    "This uses the distance matrix"
   ]
  },
  {
   "cell_type": "code",
   "execution_count": 38,
   "metadata": {
    "collapsed": false
   },
   "outputs": [
    {
     "data": {
      "text/plain": [
       "(0.91710410479810689,\n",
       " array([ 0.94855333,  0.95826809,  0.92341246,  0.90857585,  0.91203798,\n",
       "         0.85177693]))"
      ]
     },
     "execution_count": 38,
     "metadata": {},
     "output_type": "execute_result"
    }
   ],
   "source": [
    "sil_avg = silhouette_score(cluster_distance, cluster_labels)\n",
    "sil_samples = silhouette_samples(cluster_distance, cluster_labels)\n",
    "sil_avg,sil_samples"
   ]
  },
  {
   "cell_type": "markdown",
   "metadata": {},
   "source": [
    "## Do the same with data that's not well clustered"
   ]
  },
  {
   "cell_type": "code",
   "execution_count": 39,
   "metadata": {
    "collapsed": false
   },
   "outputs": [
    {
     "data": {
      "text/plain": [
       "array([[1, 1],\n",
       "       [2, 2],\n",
       "       [3, 3],\n",
       "       [1, 3],\n",
       "       [3, 1]])"
      ]
     },
     "execution_count": 39,
     "metadata": {},
     "output_type": "execute_result"
    }
   ],
   "source": [
    "x_1 = [1,2,3,1,3]\n",
    "x_2 = [1,2,3,3,1]\n",
    "X = []\n",
    "for num in range(0,len(x_1)):\n",
    "    X.append([x_1[num], x_2[num]] )\n",
    "X = np.asarray(X)\n",
    "X"
   ]
  },
  {
   "cell_type": "code",
   "execution_count": 40,
   "metadata": {
    "collapsed": false
   },
   "outputs": [
    {
     "data": {
      "image/png": "[encoded data removed]",
      "text/plain": [
       "<matplotlib.figure.Figure at 0x27ab584b4a8>"
      ]
     },
     "metadata": {},
     "output_type": "display_data"
    }
   ],
   "source": [
    "%matplotlib inline  \n",
    "plt.scatter(x_1,x_2)\n",
    "plt.show()"
   ]
  },
  {
   "cell_type": "code",
   "execution_count": 41,
   "metadata": {
    "collapsed": false
   },
   "outputs": [
    {
     "data": {
      "text/plain": [
       "array([[ 1.05409255,  2.23606798],\n",
       "       [ 0.66666667,  1.        ],\n",
       "       [ 1.94365063,  1.        ],\n",
       "       [ 1.05409255,  2.23606798],\n",
       "       [ 1.94365063,  1.        ]])"
      ]
     },
     "execution_count": 41,
     "metadata": {},
     "output_type": "execute_result"
    }
   ],
   "source": [
    "km = KMeans(n_clusters=2, init='k-means++', random_state=10)\n",
    "cluster_labels = km.fit_predict(X)\n",
    "cluster_distance = km.fit_transform(X)\n",
    "cluster_distance"
   ]
  },
  {
   "cell_type": "markdown",
   "metadata": {},
   "source": [
    "This uses the original data to compute the average silhouette score"
   ]
  },
  {
   "cell_type": "code",
   "execution_count": 42,
   "metadata": {
    "collapsed": false,
    "scrolled": true
   },
   "outputs": [
    {
     "data": {
      "text/plain": [
       "(0.13270459830493214,\n",
       " array([ 0.29289322,  0.        ,  0.03886828,  0.29289322,  0.03886828]))"
      ]
     },
     "execution_count": 42,
     "metadata": {},
     "output_type": "execute_result"
    }
   ],
   "source": [
    "sil_avg = silhouette_score(X, cluster_labels)\n",
    "sil_samples = silhouette_samples(X, cluster_labels)\n",
    "sil_avg,sil_samples"
   ]
  },
  {
   "cell_type": "markdown",
   "metadata": {},
   "source": [
    "This uses the distance matrix"
   ]
  },
  {
   "cell_type": "code",
   "execution_count": 43,
   "metadata": {
    "collapsed": false
   },
   "outputs": [
    {
     "data": {
      "text/plain": [
       "(0.62704295236321361,\n",
       " array([ 0.57470119, -0.01418761,  1.        ,  0.57470119,  1.        ]))"
      ]
     },
     "execution_count": 43,
     "metadata": {},
     "output_type": "execute_result"
    }
   ],
   "source": [
    "sil_avg = silhouette_score(cluster_distance, cluster_labels)\n",
    "sil_samples = silhouette_samples(cluster_distance, cluster_labels)\n",
    "sil_avg,sil_samples"
   ]
  },
  {
   "cell_type": "markdown",
   "metadata": {},
   "source": [
    "I think the function is intended to take the original data. Most of what I've found online follows this usage. The unfortunate conclusion is that the lyrics data isn't very well clustered, but I'm going to go with it anyway."
   ]
  }
 ],
 "metadata": {
  "kernelspec": {
   "display_name": "Python 3",
   "language": "python",
   "name": "python3"
  },
  "language_info": {
   "codemirror_mode": {
    "name": "ipython",
    "version": 3
   },
   "file_extension": ".py",
   "mimetype": "text/x-python",
   "name": "python",
   "nbconvert_exporter": "python",
   "pygments_lexer": "ipython3",
   "version": "3.5.1"
  }
 },
 "nbformat": 4,
 "nbformat_minor": 0
}
